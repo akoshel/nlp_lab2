{
 "cells": [
  {
   "cell_type": "code",
   "execution_count": 1,
   "id": "fe230b05",
   "metadata": {
    "ExecuteTime": {
     "end_time": "2021-05-24T18:13:21.464401Z",
     "start_time": "2021-05-24T18:13:20.657509Z"
    }
   },
   "outputs": [],
   "source": [
    "import torch\n",
    "import tqdm\n",
    "from nltk.translate.bleu_score import corpus_bleu\n",
    "from torchtext.legacy.data import BucketIterator\n",
    "from config import read_training_pipeline_params\n",
    "from load_data import get_dataset, split_data, _len_sort_key\n",
    "import my_network\n",
    "from train_model import evaluate\n",
    "from utils import generate_translation, get_text\n",
    "import random\n",
    "import numpy as np\n",
    "from helpers import get_bleu"
   ]
  },
  {
   "cell_type": "markdown",
   "id": "f9aa0cd7",
   "metadata": {},
   "source": [
    "## Seq2seq c предобученным эмбедингом"
   ]
  },
  {
   "cell_type": "markdown",
   "id": "2676712a",
   "metadata": {},
   "source": [
    "Обучал 20 эпох, каждая эпоха примерно 1мин 10сек"
   ]
  },
  {
   "cell_type": "code",
   "execution_count": 2,
   "id": "52bd1c5b",
   "metadata": {
    "ExecuteTime": {
     "end_time": "2021-05-24T18:13:23.204375Z",
     "start_time": "2021-05-24T18:13:23.199354Z"
    }
   },
   "outputs": [],
   "source": [
    "SEED = 1234\n",
    "\n",
    "random.seed(SEED)\n",
    "np.random.seed(SEED)\n",
    "torch.manual_seed(SEED)\n",
    "torch.cuda.manual_seed(SEED)\n",
    "torch.backends.cudnn.deterministic = True"
   ]
  },
  {
   "cell_type": "code",
   "execution_count": 3,
   "id": "616cfb7a",
   "metadata": {
    "ExecuteTime": {
     "end_time": "2021-05-23T10:46:13.538837Z",
     "start_time": "2021-05-23T10:46:13.536231Z"
    }
   },
   "outputs": [],
   "source": [
    "Encoder = my_network.Encoder\n",
    "Decoder = my_network.Decoder\n",
    "Seq2Seq = my_network.Seq2Seq"
   ]
  },
  {
   "cell_type": "code",
   "execution_count": 4,
   "id": "da733e27",
   "metadata": {
    "ExecuteTime": {
     "end_time": "2021-05-18T18:28:54.398447Z",
     "start_time": "2021-05-18T18:28:54.389215Z"
    }
   },
   "outputs": [],
   "source": [
    "config = read_training_pipeline_params(\"train_config_pretrained_emb.yaml\")"
   ]
  },
  {
   "cell_type": "code",
   "execution_count": 5,
   "id": "8c82a16f",
   "metadata": {
    "ExecuteTime": {
     "end_time": "2021-05-18T18:28:55.066744Z",
     "start_time": "2021-05-18T18:28:55.063926Z"
    }
   },
   "outputs": [],
   "source": [
    "device = torch.device('cuda' if torch.cuda.is_available() else 'cpu')"
   ]
  },
  {
   "cell_type": "code",
   "execution_count": 7,
   "id": "9084528a",
   "metadata": {
    "ExecuteTime": {
     "end_time": "2021-05-21T11:11:59.373416Z",
     "start_time": "2021-05-21T11:11:55.526164Z"
    }
   },
   "outputs": [
    {
     "ename": "NameError",
     "evalue": "name 'device' is not defined",
     "output_type": "error",
     "traceback": [
      "\u001b[0;31m---------------------------------------------------------------------------\u001b[0m",
      "\u001b[0;31mNameError\u001b[0m                                 Traceback (most recent call last)",
      "\u001b[0;32m<ipython-input-7-39469e6fb273>\u001b[0m in \u001b[0;36m<module>\u001b[0;34m\u001b[0m\n\u001b[1;32m      8\u001b[0m     \u001b[0;34m(\u001b[0m\u001b[0mtrain_data\u001b[0m\u001b[0;34m,\u001b[0m \u001b[0mvalid_data\u001b[0m\u001b[0;34m,\u001b[0m \u001b[0mtest_data\u001b[0m\u001b[0;34m)\u001b[0m\u001b[0;34m,\u001b[0m\u001b[0;34m\u001b[0m\u001b[0;34m\u001b[0m\u001b[0m\n\u001b[1;32m      9\u001b[0m     \u001b[0mbatch_size\u001b[0m\u001b[0;34m=\u001b[0m\u001b[0mconfig\u001b[0m\u001b[0;34m.\u001b[0m\u001b[0mBATCH_SIZE\u001b[0m\u001b[0;34m,\u001b[0m\u001b[0;34m\u001b[0m\u001b[0;34m\u001b[0m\u001b[0m\n\u001b[0;32m---> 10\u001b[0;31m     \u001b[0mdevice\u001b[0m\u001b[0;34m=\u001b[0m\u001b[0mdevice\u001b[0m\u001b[0;34m,\u001b[0m\u001b[0;34m\u001b[0m\u001b[0;34m\u001b[0m\u001b[0m\n\u001b[0m\u001b[1;32m     11\u001b[0m     \u001b[0msort_key\u001b[0m\u001b[0;34m=\u001b[0m\u001b[0m_len_sort_key\u001b[0m\u001b[0;34m\u001b[0m\u001b[0;34m\u001b[0m\u001b[0m\n\u001b[1;32m     12\u001b[0m )\n",
      "\u001b[0;31mNameError\u001b[0m: name 'device' is not defined"
     ]
    }
   ],
   "source": [
    "SRC, TRG, dataset = get_dataset(config.dataset_path)\n",
    "train_data, valid_data, test_data = split_data(dataset, **config.split_ration.__dict__)\n",
    "SRC.vocab = torch.load(\"vocabs/src_vocab_pret\")\n",
    "TRG.vocab = torch.load(\"vocabs/trg_vocab_pret\")\n",
    "# SRC.build_vocab(train_data, min_freq=3)\n",
    "# TRG.build_vocab(train_data, min_freq=3)\n",
    "train_iterator, valid_iterator, test_iterator = BucketIterator.splits(\n",
    "    (train_data, valid_data, test_data),\n",
    "    batch_size=config.BATCH_SIZE,\n",
    "    device=device,\n",
    "    sort_key=_len_sort_key\n",
    ")"
   ]
  },
  {
   "cell_type": "code",
   "execution_count": 7,
   "id": "96521335",
   "metadata": {
    "ExecuteTime": {
     "end_time": "2021-05-18T18:29:04.496149Z",
     "start_time": "2021-05-18T18:29:04.492679Z"
    }
   },
   "outputs": [],
   "source": [
    "INPUT_DIM = len(SRC.vocab)\n",
    "OUTPUT_DIM = len(TRG.vocab)"
   ]
  },
  {
   "cell_type": "code",
   "execution_count": 8,
   "id": "15e30f3b",
   "metadata": {
    "ExecuteTime": {
     "end_time": "2021-05-18T18:29:06.360964Z",
     "start_time": "2021-05-18T18:29:06.257746Z"
    }
   },
   "outputs": [],
   "source": [
    "enc = Encoder(INPUT_DIM, config.net_params.ENC_EMB_DIM, config.net_params.HID_DIM,\n",
    "              config.net_params.N_LAYERS, config.net_params.ENC_DROPOUT)\n",
    "dec = Decoder(OUTPUT_DIM, config.net_params.DEC_EMB_DIM, config.net_params.HID_DIM,\n",
    "              config.net_params.N_LAYERS, config.net_params.DEC_DROPOUT)"
   ]
  },
  {
   "cell_type": "code",
   "execution_count": 9,
   "id": "73510f3e",
   "metadata": {
    "ExecuteTime": {
     "end_time": "2021-05-18T18:29:09.096640Z",
     "start_time": "2021-05-18T18:29:09.086622Z"
    }
   },
   "outputs": [
    {
     "data": {
      "text/plain": [
       "Seq2Seq(\n",
       "  (encoder): Encoder(\n",
       "    (embedding): Embedding(9252, 300)\n",
       "    (rnn): LSTM(300, 512, num_layers=2, dropout=0.5)\n",
       "    (dropout): Dropout(p=0.5, inplace=False)\n",
       "  )\n",
       "  (decoder): Decoder(\n",
       "    (embedding): Embedding(6734, 300)\n",
       "    (rnn): LSTM(300, 512, num_layers=2, dropout=0.5)\n",
       "    (out): Linear(in_features=512, out_features=6734, bias=True)\n",
       "    (dropout): Dropout(p=0.5, inplace=False)\n",
       "  )\n",
       ")"
      ]
     },
     "execution_count": 9,
     "metadata": {},
     "output_type": "execute_result"
    }
   ],
   "source": [
    "model = Seq2Seq(enc, dec, device).to(device)\n",
    "model.eval()"
   ]
  },
  {
   "cell_type": "code",
   "execution_count": 10,
   "id": "3bb9ab84",
   "metadata": {
    "ExecuteTime": {
     "end_time": "2021-05-18T18:29:20.515290Z",
     "start_time": "2021-05-18T18:29:20.351674Z"
    }
   },
   "outputs": [
    {
     "data": {
      "text/plain": [
       "<All keys matched successfully>"
      ]
     },
     "execution_count": 10,
     "metadata": {},
     "output_type": "execute_result"
    }
   ],
   "source": [
    "checkpoint = torch.load(\"models/pret_emb_model.pt\", map_location='cpu')\n",
    "model.load_state_dict(checkpoint, strict=True)"
   ]
  },
  {
   "cell_type": "code",
   "execution_count": 13,
   "id": "2c250e57",
   "metadata": {
    "ExecuteTime": {
     "end_time": "2021-05-18T18:29:31.813439Z",
     "start_time": "2021-05-18T18:29:31.481498Z"
    }
   },
   "outputs": [
    {
     "name": "stdout",
     "output_type": "stream",
     "text": [
      "Source: гости могут готовить на общей кухне .\n",
      "Original: you will find a shared kitchen at the property .\n",
      "Generated: guests will find a shared kitchen .\n",
      "\n",
      "Source: у отеля разбит большой сад .\n",
      "Original: the hotel has large gardens .\n",
      "Generated: at a terrace .\n",
      "\n",
      "Source: по запросу и за дополнительную плату организуется трансфер .\n",
      "Original: a shuttle service can be arranged on request at an additional fee .\n",
      "Generated: airport , and shuttle service can be arranged at a surcharge .\n",
      "\n",
      "Source: поездка до международного аэропорта дель бахио займет 25 минут .\n",
      "Original: the international airport can be reached in a 25 - minute drive .\n",
      "Generated: international airport is a minutes - minute drive away .\n",
      "\n",
      "Source: в собственной ванной комнате в вашем распоряжении душ и ванна .\n",
      "Original: featuring a shower , private bathroom also comes with a bathtub .\n",
      "Generated: the private bathroom comes with a bath or shower .\n",
      "\n",
      "Source: помимо этого , на территории отеля гости смогут воспользоваться принадлежностями для барбекю .\n",
      "Original: barbecue facilities are also available on site .\n",
      "Generated: guests can use the shared kitchen .\n",
      "\n"
     ]
    }
   ],
   "source": [
    "for idx, batch in enumerate(test_iterator):\n",
    "    if idx > 5:\n",
    "        break\n",
    "    src = batch.src[:, idx:idx+1]\n",
    "    trg = batch.trg[:, idx:idx+1]\n",
    "    \n",
    "    generate_translation(src, trg, model, TRG.vocab, SRC.vocab)"
   ]
  },
  {
   "cell_type": "code",
   "execution_count": 26,
   "id": "ef7ebf87",
   "metadata": {
    "ExecuteTime": {
     "end_time": "2021-05-18T18:17:00.278090Z",
     "start_time": "2021-05-18T18:15:50.734577Z"
    }
   },
   "outputs": [
    {
     "name": "stderr",
     "output_type": "stream",
     "text": [
      "15it [01:09,  4.64s/it]\n"
     ]
    }
   ],
   "source": [
    "original_text = []\n",
    "generated_text = []\n",
    "with torch.no_grad():\n",
    "\n",
    "    for i, batch in tqdm.tqdm(enumerate(test_iterator)):\n",
    "\n",
    "        src = batch.src\n",
    "        trg = batch.trg\n",
    "\n",
    "        output = model(src, trg, 0) #turn off teacher forcing\n",
    "\n",
    "        #trg = [trg sent len, batch size]\n",
    "        #output = [trg sent len, batch size, output dim]\n",
    "\n",
    "        output = output.argmax(dim=-1)\n",
    "        \n",
    "        original_text.extend([get_text(x, TRG.vocab) for x in trg.cpu().numpy().T])\n",
    "        generated_text.extend([get_text(x, TRG.vocab) for x in output[1:].detach().cpu().numpy().T])\n"
   ]
  },
  {
   "cell_type": "code",
   "execution_count": 45,
   "id": "e89acf8a",
   "metadata": {
    "ExecuteTime": {
     "end_time": "2021-05-18T17:40:26.510060Z",
     "start_time": "2021-05-18T17:40:24.165861Z"
    }
   },
   "outputs": [
    {
     "data": {
      "text/plain": [
       "1.393766008719758"
      ]
     },
     "execution_count": 45,
     "metadata": {},
     "output_type": "execute_result"
    }
   ],
   "source": [
    "corpus_bleu([[text] for text in original_text], generated_text) * 100"
   ]
  },
  {
   "cell_type": "markdown",
   "id": "5cf1e27c",
   "metadata": {},
   "source": [
    "## Seq2Seq с предобученным эмбедингом и аттеншеном"
   ]
  },
  {
   "cell_type": "markdown",
   "id": "5432700b",
   "metadata": {},
   "source": [
    "Время эпохи увеличилось примерно до 3-х минут. Где-то после 8-й эпохи модель начала переобучаться"
   ]
  },
  {
   "cell_type": "code",
   "execution_count": 4,
   "id": "0957040b",
   "metadata": {
    "ExecuteTime": {
     "end_time": "2021-05-21T11:11:30.598325Z",
     "start_time": "2021-05-21T11:11:30.574690Z"
    }
   },
   "outputs": [],
   "source": [
    "import network_gru_attention"
   ]
  },
  {
   "cell_type": "code",
   "execution_count": 5,
   "id": "ad12cf59",
   "metadata": {
    "ExecuteTime": {
     "end_time": "2021-05-21T11:11:31.303307Z",
     "start_time": "2021-05-21T11:11:31.293408Z"
    }
   },
   "outputs": [],
   "source": [
    "config = read_training_pipeline_params(\"train_config_pretrained_emb.yaml\")"
   ]
  },
  {
   "cell_type": "code",
   "execution_count": 9,
   "id": "ae86ab31",
   "metadata": {
    "ExecuteTime": {
     "end_time": "2021-05-21T11:12:39.473093Z",
     "start_time": "2021-05-21T11:12:36.566058Z"
    }
   },
   "outputs": [],
   "source": [
    "device = torch.device('cuda' if torch.cuda.is_available() else 'cpu')\n",
    "\n",
    "SRC, TRG, dataset = get_dataset(config.dataset_path)\n",
    "train_data, valid_data, test_data = split_data(dataset, **config.split_ration.__dict__)\n",
    "SRC.vocab = torch.load(\"vocabs/src_vocab_attn\")\n",
    "TRG.vocab = torch.load(\"vocabs/trg_vocab_attn\")\n",
    "train_iterator, valid_iterator, test_iterator = BucketIterator.splits(\n",
    "    (train_data, valid_data, test_data),\n",
    "    batch_size=config.BATCH_SIZE,\n",
    "    device=device,\n",
    "    sort_key=_len_sort_key\n",
    ")"
   ]
  },
  {
   "cell_type": "code",
   "execution_count": 10,
   "id": "66f587e8",
   "metadata": {
    "ExecuteTime": {
     "end_time": "2021-05-21T11:12:49.120298Z",
     "start_time": "2021-05-21T11:12:49.117737Z"
    }
   },
   "outputs": [],
   "source": [
    "INPUT_DIM = len(SRC.vocab)\n",
    "OUTPUT_DIM = len(TRG.vocab)"
   ]
  },
  {
   "cell_type": "code",
   "execution_count": 11,
   "id": "2364a477",
   "metadata": {
    "ExecuteTime": {
     "end_time": "2021-05-21T11:12:51.476237Z",
     "start_time": "2021-05-21T11:12:51.325287Z"
    }
   },
   "outputs": [],
   "source": [
    "Encoder = network_gru_attention.Encoder\n",
    "Decoder = network_gru_attention.Decoder\n",
    "Seq2Seq = network_gru_attention.Seq2Seq\n",
    "Attention = network_gru_attention.Attention\n",
    "attn = Attention(config.net_params.HID_DIM, config.net_params.HID_DIM)\n",
    "enc = Encoder(INPUT_DIM, config.net_params.ENC_EMB_DIM, config.net_params.HID_DIM, config.net_params.HID_DIM,\n",
    "              config.net_params.ENC_DROPOUT)\n",
    "dec = Decoder(OUTPUT_DIM, config.net_params.DEC_EMB_DIM, config.net_params.HID_DIM, config.net_params.HID_DIM,\n",
    "              config.net_params.DEC_DROPOUT, attn)\n",
    "\n",
    "model = Seq2Seq(enc, dec, device)"
   ]
  },
  {
   "cell_type": "code",
   "execution_count": 12,
   "id": "4ac12939",
   "metadata": {
    "ExecuteTime": {
     "end_time": "2021-05-21T11:13:22.018507Z",
     "start_time": "2021-05-21T11:13:21.501934Z"
    }
   },
   "outputs": [
    {
     "data": {
      "text/plain": [
       "<All keys matched successfully>"
      ]
     },
     "execution_count": 12,
     "metadata": {},
     "output_type": "execute_result"
    }
   ],
   "source": [
    "checkpoint = torch.load(\"models/attn_model.pt\", map_location='cpu')\n",
    "model.load_state_dict(checkpoint, strict=True)"
   ]
  },
  {
   "cell_type": "code",
   "execution_count": 16,
   "id": "7fc48474",
   "metadata": {
    "ExecuteTime": {
     "end_time": "2021-05-21T12:34:19.672254Z",
     "start_time": "2021-05-21T12:34:19.603169Z"
    }
   },
   "outputs": [
    {
     "data": {
      "text/plain": [
       "Seq2Seq(\n",
       "  (encoder): Encoder(\n",
       "    (embedding): Embedding(9252, 300)\n",
       "    (rnn): GRU(300, 512, bidirectional=True)\n",
       "    (fc): Linear(in_features=1024, out_features=512, bias=True)\n",
       "    (dropout): Dropout(p=0.5, inplace=False)\n",
       "  )\n",
       "  (decoder): Decoder(\n",
       "    (attention): Attention(\n",
       "      (attn): Linear(in_features=1536, out_features=512, bias=True)\n",
       "      (v): Linear(in_features=512, out_features=1, bias=False)\n",
       "    )\n",
       "    (embedding): Embedding(6734, 300)\n",
       "    (rnn): GRU(1324, 512)\n",
       "    (fc_out): Linear(in_features=1836, out_features=6734, bias=True)\n",
       "    (dropout): Dropout(p=0.5, inplace=False)\n",
       "  )\n",
       ")"
      ]
     },
     "execution_count": 16,
     "metadata": {},
     "output_type": "execute_result"
    }
   ],
   "source": [
    "model.eval()"
   ]
  },
  {
   "cell_type": "code",
   "execution_count": 17,
   "id": "39d03f26",
   "metadata": {
    "ExecuteTime": {
     "end_time": "2021-05-21T12:34:22.500435Z",
     "start_time": "2021-05-21T12:34:20.683239Z"
    }
   },
   "outputs": [
    {
     "name": "stdout",
     "output_type": "stream",
     "text": [
      "Source: дети до 11 лет размещаются бесплатно .\n",
      "Original: children under 11 stay for free .\n",
      "Generated: children ’ s playground is free free of charge .\n",
      "\n",
      "Source: на стойке регистрации можно взять бесплатные газеты .\n",
      "Original: free newspapers are available at the reception .\n",
      "Generated: free newspapers can be free at the reception desk and free .\n",
      "\n",
      "Source: расстояние до международного аэропорта бухареста составляет км .\n",
      "Original: bucharest international airport is km from here .\n",
      "Generated: the nearest airport is belgrade international airport , km from the property .\n",
      "\n",
      "Source: научный центр расположен в 20 , 2 км .\n",
      "Original: science center is 12 . 6 miles away .\n",
      "Generated: the center center is 20 . 2 km away .\n",
      "\n",
      "Source: к услугам гостей кабельное телевидение , стиральная машина и микроволновая печь .\n",
      "Original: facilities include cable tv , washing machine and microwave .\n",
      "Generated: the cable tv , a washing machine , a washing machine and a microwave .\n",
      "\n",
      "Source: гости могут провести время за просмотром dvd - фильмов или кабельных каналов .\n",
      "Original: guest can enjoy watching dvd films or cable channels .\n",
      "Generated: guests can watch a dvd player , cable channels and cable channels .\n",
      "\n"
     ]
    }
   ],
   "source": [
    "for idx, batch in enumerate(test_iterator):\n",
    "    if idx > 5:\n",
    "        break\n",
    "    src = batch.src[:, idx:idx+1]\n",
    "    trg = batch.trg[:, idx:idx+1]\n",
    "    \n",
    "    generate_translation(src, trg, model, TRG.vocab, SRC.vocab)"
   ]
  },
  {
   "cell_type": "code",
   "execution_count": 18,
   "id": "f3616349",
   "metadata": {
    "ExecuteTime": {
     "end_time": "2021-05-21T12:37:57.946559Z",
     "start_time": "2021-05-21T12:34:23.978247Z"
    }
   },
   "outputs": [
    {
     "name": "stderr",
     "output_type": "stream",
     "text": [
      "15it [03:33, 14.26s/it]\n"
     ]
    }
   ],
   "source": [
    "original_text = []\n",
    "generated_text = []\n",
    "with torch.no_grad():\n",
    "\n",
    "    for i, batch in tqdm.tqdm(enumerate(test_iterator)):\n",
    "\n",
    "        src = batch.src\n",
    "        trg = batch.trg\n",
    "\n",
    "        output = model(src, trg, 0) #turn off teacher forcing\n",
    "\n",
    "        #trg = [trg sent len, batch size]\n",
    "        #output = [trg sent len, batch size, output dim]\n",
    "\n",
    "        output = output.argmax(dim=-1)\n",
    "        \n",
    "        original_text.extend([get_text(x, TRG.vocab) for x in trg.cpu().numpy().T])\n",
    "        generated_text.extend([get_text(x, TRG.vocab) for x in output[1:].detach().cpu().numpy().T])\n"
   ]
  },
  {
   "cell_type": "code",
   "execution_count": 19,
   "id": "e6956740",
   "metadata": {
    "ExecuteTime": {
     "end_time": "2021-05-21T12:37:59.540371Z",
     "start_time": "2021-05-21T12:37:58.030485Z"
    }
   },
   "outputs": [
    {
     "data": {
      "text/plain": [
       "30.54667083223913"
      ]
     },
     "execution_count": 19,
     "metadata": {},
     "output_type": "execute_result"
    }
   ],
   "source": [
    "corpus_bleu([[text] for text in original_text], generated_text) * 100"
   ]
  },
  {
   "cell_type": "markdown",
   "id": "e266e7a5",
   "metadata": {},
   "source": [
    "## Seq2seq Трансформер с предобученным эмбедингом"
   ]
  },
  {
   "cell_type": "markdown",
   "id": "0e868894",
   "metadata": {},
   "source": [
    "Это простой трансформер, с 3 слоями и без предобученного эмбединга слов. длительность эпохи всего 30 сек"
   ]
  },
  {
   "cell_type": "code",
   "execution_count": 3,
   "id": "3e615fee",
   "metadata": {
    "ExecuteTime": {
     "end_time": "2021-05-24T18:13:27.596804Z",
     "start_time": "2021-05-24T18:13:27.586778Z"
    }
   },
   "outputs": [],
   "source": [
    "import network_transformer"
   ]
  },
  {
   "cell_type": "code",
   "execution_count": 4,
   "id": "8128b394",
   "metadata": {
    "ExecuteTime": {
     "end_time": "2021-05-24T18:13:27.811734Z",
     "start_time": "2021-05-24T18:13:27.802193Z"
    }
   },
   "outputs": [],
   "source": [
    "config = read_training_pipeline_params(\"train_config_pretrained_emb_transformer.yaml\")"
   ]
  },
  {
   "cell_type": "code",
   "execution_count": 5,
   "id": "85cffcd8",
   "metadata": {
    "ExecuteTime": {
     "end_time": "2021-05-24T18:13:31.112693Z",
     "start_time": "2021-05-24T18:13:27.989799Z"
    }
   },
   "outputs": [],
   "source": [
    "device = torch.device('cuda' if torch.cuda.is_available() else 'cpu')\n",
    "\n",
    "SRC, TRG, dataset = get_dataset(config.dataset_path, config.net_params.transformer)\n",
    "train_data, valid_data, test_data = split_data(dataset, **config.split_ration.__dict__)\n",
    "SRC.vocab = torch.load(\"vocabs/src_vocab_transformer\")\n",
    "TRG.vocab = torch.load(\"vocabs/trg_vocab_transformer\")\n",
    "train_iterator, valid_iterator, test_iterator = BucketIterator.splits(\n",
    "    (train_data, valid_data, test_data),\n",
    "    batch_size=config.BATCH_SIZE,\n",
    "    device=device,\n",
    "    sort_key=_len_sort_key\n",
    ")"
   ]
  },
  {
   "cell_type": "code",
   "execution_count": 6,
   "id": "6b1f0136",
   "metadata": {
    "ExecuteTime": {
     "end_time": "2021-05-24T18:13:31.148430Z",
     "start_time": "2021-05-24T18:13:31.144970Z"
    }
   },
   "outputs": [],
   "source": [
    "INPUT_DIM = len(SRC.vocab)\n",
    "OUTPUT_DIM = len(TRG.vocab)"
   ]
  },
  {
   "cell_type": "code",
   "execution_count": 7,
   "id": "166d3d79",
   "metadata": {
    "ExecuteTime": {
     "end_time": "2021-05-24T18:13:31.294990Z",
     "start_time": "2021-05-24T18:13:31.180564Z"
    }
   },
   "outputs": [],
   "source": [
    "Encoder = network_transformer.Encoder\n",
    "Decoder = network_transformer.Decoder\n",
    "Seq2Seq = network_transformer.Seq2Seq\n",
    "SRC_PAD_IDX = SRC.vocab.stoi[SRC.pad_token]\n",
    "TRG_PAD_IDX = TRG.vocab.stoi[TRG.pad_token]\n",
    "HID_DIM = 256\n",
    "ENC_LAYERS = 3\n",
    "DEC_LAYERS = 3\n",
    "ENC_HEADS = 8\n",
    "DEC_HEADS = 8\n",
    "ENC_PF_DIM = 512\n",
    "DEC_PF_DIM = 512\n",
    "ENC_DROPOUT = 0.1\n",
    "DEC_DROPOUT = 0.1\n",
    "\n",
    "enc = Encoder(INPUT_DIM,\n",
    "              HID_DIM,\n",
    "              ENC_LAYERS,\n",
    "              ENC_HEADS,\n",
    "              ENC_PF_DIM,\n",
    "              ENC_DROPOUT,\n",
    "              device)\n",
    "\n",
    "dec = Decoder(OUTPUT_DIM,\n",
    "              HID_DIM,\n",
    "              DEC_LAYERS,\n",
    "              DEC_HEADS,\n",
    "              DEC_PF_DIM,\n",
    "              DEC_DROPOUT,\n",
    "              device)\n",
    "model = Seq2Seq(enc, dec, SRC_PAD_IDX, TRG_PAD_IDX, device)"
   ]
  },
  {
   "cell_type": "code",
   "execution_count": 8,
   "id": "73efe073",
   "metadata": {
    "ExecuteTime": {
     "end_time": "2021-05-24T18:13:32.031612Z",
     "start_time": "2021-05-24T18:13:31.331660Z"
    }
   },
   "outputs": [
    {
     "data": {
      "text/plain": [
       "<All keys matched successfully>"
      ]
     },
     "execution_count": 8,
     "metadata": {},
     "output_type": "execute_result"
    }
   ],
   "source": [
    "checkpoint = torch.load(\"models/transformer_model.pt\", map_location='cpu')\n",
    "model.load_state_dict(checkpoint, strict=True)"
   ]
  },
  {
   "cell_type": "code",
   "execution_count": 9,
   "id": "cb57dcc7",
   "metadata": {
    "ExecuteTime": {
     "end_time": "2021-05-24T18:13:32.772914Z",
     "start_time": "2021-05-24T18:13:32.766798Z"
    }
   },
   "outputs": [
    {
     "data": {
      "text/plain": [
       "Seq2Seq(\n",
       "  (encoder): Encoder(\n",
       "    (tok_embedding): Embedding(9252, 256)\n",
       "    (pos_embedding): Embedding(100, 256)\n",
       "    (layers): ModuleList(\n",
       "      (0): EncoderLayer(\n",
       "        (self_attn_layer_norm): LayerNorm((256,), eps=1e-05, elementwise_affine=True)\n",
       "        (ff_layer_norm): LayerNorm((256,), eps=1e-05, elementwise_affine=True)\n",
       "        (self_attention): MultiHeadAttentionLayer(\n",
       "          (fc_q): Linear(in_features=256, out_features=256, bias=True)\n",
       "          (fc_k): Linear(in_features=256, out_features=256, bias=True)\n",
       "          (fc_v): Linear(in_features=256, out_features=256, bias=True)\n",
       "          (fc_o): Linear(in_features=256, out_features=256, bias=True)\n",
       "          (dropout): Dropout(p=0.1, inplace=False)\n",
       "        )\n",
       "        (positionwise_feedforward): PositionwiseFeedforwardLayer(\n",
       "          (fc_1): Linear(in_features=256, out_features=512, bias=True)\n",
       "          (fc_2): Linear(in_features=512, out_features=256, bias=True)\n",
       "          (dropout): Dropout(p=0.1, inplace=False)\n",
       "        )\n",
       "        (dropout): Dropout(p=0.1, inplace=False)\n",
       "      )\n",
       "      (1): EncoderLayer(\n",
       "        (self_attn_layer_norm): LayerNorm((256,), eps=1e-05, elementwise_affine=True)\n",
       "        (ff_layer_norm): LayerNorm((256,), eps=1e-05, elementwise_affine=True)\n",
       "        (self_attention): MultiHeadAttentionLayer(\n",
       "          (fc_q): Linear(in_features=256, out_features=256, bias=True)\n",
       "          (fc_k): Linear(in_features=256, out_features=256, bias=True)\n",
       "          (fc_v): Linear(in_features=256, out_features=256, bias=True)\n",
       "          (fc_o): Linear(in_features=256, out_features=256, bias=True)\n",
       "          (dropout): Dropout(p=0.1, inplace=False)\n",
       "        )\n",
       "        (positionwise_feedforward): PositionwiseFeedforwardLayer(\n",
       "          (fc_1): Linear(in_features=256, out_features=512, bias=True)\n",
       "          (fc_2): Linear(in_features=512, out_features=256, bias=True)\n",
       "          (dropout): Dropout(p=0.1, inplace=False)\n",
       "        )\n",
       "        (dropout): Dropout(p=0.1, inplace=False)\n",
       "      )\n",
       "      (2): EncoderLayer(\n",
       "        (self_attn_layer_norm): LayerNorm((256,), eps=1e-05, elementwise_affine=True)\n",
       "        (ff_layer_norm): LayerNorm((256,), eps=1e-05, elementwise_affine=True)\n",
       "        (self_attention): MultiHeadAttentionLayer(\n",
       "          (fc_q): Linear(in_features=256, out_features=256, bias=True)\n",
       "          (fc_k): Linear(in_features=256, out_features=256, bias=True)\n",
       "          (fc_v): Linear(in_features=256, out_features=256, bias=True)\n",
       "          (fc_o): Linear(in_features=256, out_features=256, bias=True)\n",
       "          (dropout): Dropout(p=0.1, inplace=False)\n",
       "        )\n",
       "        (positionwise_feedforward): PositionwiseFeedforwardLayer(\n",
       "          (fc_1): Linear(in_features=256, out_features=512, bias=True)\n",
       "          (fc_2): Linear(in_features=512, out_features=256, bias=True)\n",
       "          (dropout): Dropout(p=0.1, inplace=False)\n",
       "        )\n",
       "        (dropout): Dropout(p=0.1, inplace=False)\n",
       "      )\n",
       "    )\n",
       "    (dropout): Dropout(p=0.1, inplace=False)\n",
       "  )\n",
       "  (decoder): Decoder(\n",
       "    (tok_embedding): Embedding(6734, 256)\n",
       "    (pos_embedding): Embedding(100, 256)\n",
       "    (layers): ModuleList(\n",
       "      (0): DecoderLayer(\n",
       "        (self_attn_layer_norm): LayerNorm((256,), eps=1e-05, elementwise_affine=True)\n",
       "        (enc_attn_layer_norm): LayerNorm((256,), eps=1e-05, elementwise_affine=True)\n",
       "        (ff_layer_norm): LayerNorm((256,), eps=1e-05, elementwise_affine=True)\n",
       "        (self_attention): MultiHeadAttentionLayer(\n",
       "          (fc_q): Linear(in_features=256, out_features=256, bias=True)\n",
       "          (fc_k): Linear(in_features=256, out_features=256, bias=True)\n",
       "          (fc_v): Linear(in_features=256, out_features=256, bias=True)\n",
       "          (fc_o): Linear(in_features=256, out_features=256, bias=True)\n",
       "          (dropout): Dropout(p=0.1, inplace=False)\n",
       "        )\n",
       "        (encoder_attention): MultiHeadAttentionLayer(\n",
       "          (fc_q): Linear(in_features=256, out_features=256, bias=True)\n",
       "          (fc_k): Linear(in_features=256, out_features=256, bias=True)\n",
       "          (fc_v): Linear(in_features=256, out_features=256, bias=True)\n",
       "          (fc_o): Linear(in_features=256, out_features=256, bias=True)\n",
       "          (dropout): Dropout(p=0.1, inplace=False)\n",
       "        )\n",
       "        (positionwise_feedforward): PositionwiseFeedforwardLayer(\n",
       "          (fc_1): Linear(in_features=256, out_features=512, bias=True)\n",
       "          (fc_2): Linear(in_features=512, out_features=256, bias=True)\n",
       "          (dropout): Dropout(p=0.1, inplace=False)\n",
       "        )\n",
       "        (dropout): Dropout(p=0.1, inplace=False)\n",
       "      )\n",
       "      (1): DecoderLayer(\n",
       "        (self_attn_layer_norm): LayerNorm((256,), eps=1e-05, elementwise_affine=True)\n",
       "        (enc_attn_layer_norm): LayerNorm((256,), eps=1e-05, elementwise_affine=True)\n",
       "        (ff_layer_norm): LayerNorm((256,), eps=1e-05, elementwise_affine=True)\n",
       "        (self_attention): MultiHeadAttentionLayer(\n",
       "          (fc_q): Linear(in_features=256, out_features=256, bias=True)\n",
       "          (fc_k): Linear(in_features=256, out_features=256, bias=True)\n",
       "          (fc_v): Linear(in_features=256, out_features=256, bias=True)\n",
       "          (fc_o): Linear(in_features=256, out_features=256, bias=True)\n",
       "          (dropout): Dropout(p=0.1, inplace=False)\n",
       "        )\n",
       "        (encoder_attention): MultiHeadAttentionLayer(\n",
       "          (fc_q): Linear(in_features=256, out_features=256, bias=True)\n",
       "          (fc_k): Linear(in_features=256, out_features=256, bias=True)\n",
       "          (fc_v): Linear(in_features=256, out_features=256, bias=True)\n",
       "          (fc_o): Linear(in_features=256, out_features=256, bias=True)\n",
       "          (dropout): Dropout(p=0.1, inplace=False)\n",
       "        )\n",
       "        (positionwise_feedforward): PositionwiseFeedforwardLayer(\n",
       "          (fc_1): Linear(in_features=256, out_features=512, bias=True)\n",
       "          (fc_2): Linear(in_features=512, out_features=256, bias=True)\n",
       "          (dropout): Dropout(p=0.1, inplace=False)\n",
       "        )\n",
       "        (dropout): Dropout(p=0.1, inplace=False)\n",
       "      )\n",
       "      (2): DecoderLayer(\n",
       "        (self_attn_layer_norm): LayerNorm((256,), eps=1e-05, elementwise_affine=True)\n",
       "        (enc_attn_layer_norm): LayerNorm((256,), eps=1e-05, elementwise_affine=True)\n",
       "        (ff_layer_norm): LayerNorm((256,), eps=1e-05, elementwise_affine=True)\n",
       "        (self_attention): MultiHeadAttentionLayer(\n",
       "          (fc_q): Linear(in_features=256, out_features=256, bias=True)\n",
       "          (fc_k): Linear(in_features=256, out_features=256, bias=True)\n",
       "          (fc_v): Linear(in_features=256, out_features=256, bias=True)\n",
       "          (fc_o): Linear(in_features=256, out_features=256, bias=True)\n",
       "          (dropout): Dropout(p=0.1, inplace=False)\n",
       "        )\n",
       "        (encoder_attention): MultiHeadAttentionLayer(\n",
       "          (fc_q): Linear(in_features=256, out_features=256, bias=True)\n",
       "          (fc_k): Linear(in_features=256, out_features=256, bias=True)\n",
       "          (fc_v): Linear(in_features=256, out_features=256, bias=True)\n",
       "          (fc_o): Linear(in_features=256, out_features=256, bias=True)\n",
       "          (dropout): Dropout(p=0.1, inplace=False)\n",
       "        )\n",
       "        (positionwise_feedforward): PositionwiseFeedforwardLayer(\n",
       "          (fc_1): Linear(in_features=256, out_features=512, bias=True)\n",
       "          (fc_2): Linear(in_features=512, out_features=256, bias=True)\n",
       "          (dropout): Dropout(p=0.1, inplace=False)\n",
       "        )\n",
       "        (dropout): Dropout(p=0.1, inplace=False)\n",
       "      )\n",
       "    )\n",
       "    (fc_out): Linear(in_features=256, out_features=6734, bias=True)\n",
       "    (dropout): Dropout(p=0.1, inplace=False)\n",
       "  )\n",
       ")"
      ]
     },
     "execution_count": 9,
     "metadata": {},
     "output_type": "execute_result"
    }
   ],
   "source": [
    "model.eval()"
   ]
  },
  {
   "cell_type": "code",
   "execution_count": 10,
   "id": "6e3a3773",
   "metadata": {
    "ExecuteTime": {
     "end_time": "2021-05-24T18:13:33.649325Z",
     "start_time": "2021-05-24T18:13:33.553203Z"
    }
   },
   "outputs": [
    {
     "name": "stdout",
     "output_type": "stream",
     "text": [
      "Source: на террасе можно заказать напитки .\n",
      "Original: guests can enjoy drinks outside on the terrace .\n",
      "Generated: can also drinks on on the terrace .\n",
      "\n",
      "Source: из окон открывается вид на город .\n",
      "Original: you can enjoy city view .\n",
      "Generated: can enjoy city view from\n",
      "\n",
      "Source: в собственной ванной комнате можно принять душ .\n",
      "Original: private bathrooms feature a shower .\n",
      "Generated: bathrooms also a shower .\n",
      "\n",
      "Source: гости смогут отдохнуть в лаундж - зоне .\n",
      "Original: guests can relax in the lounge area .\n",
      "Generated: can relax in the lounge area .\n",
      "\n"
     ]
    }
   ],
   "source": [
    "for idx, batch in enumerate(test_iterator):\n",
    "    if idx > 3:\n",
    "        break\n",
    "    src = batch.src[:, idx:idx+1]\n",
    "    trg = batch.trg[:, idx:idx+1]\n",
    "    \n",
    "    generate_translation(src, trg, model, TRG.vocab, SRC.vocab, config.net_params.transformer)"
   ]
  },
  {
   "cell_type": "code",
   "execution_count": 11,
   "id": "9874a620",
   "metadata": {
    "ExecuteTime": {
     "end_time": "2021-05-24T18:14:08.192272Z",
     "start_time": "2021-05-24T18:13:34.477243Z"
    }
   },
   "outputs": [
    {
     "name": "stderr",
     "output_type": "stream",
     "text": [
      "29it [00:32,  1.67s/it]2021-05-24 21:14:07.698 | WARNING  | helpers:get_bleu:23 - get bleu index error index out of range in self\n",
      "29it [00:33,  1.15s/it]\n"
     ]
    },
    {
     "name": "stdout",
     "output_type": "stream",
     "text": [
      "0.3297485791615985\n"
     ]
    }
   ],
   "source": [
    "get_bleu(model, test_iterator, TRG, config.net_params.transformer)"
   ]
  },
  {
   "cell_type": "markdown",
   "id": "cb20baf2",
   "metadata": {},
   "source": [
    "## end"
   ]
  },
  {
   "cell_type": "code",
   "execution_count": null,
   "id": "3a896ca3",
   "metadata": {},
   "outputs": [],
   "source": []
  }
 ],
 "metadata": {
  "kernelspec": {
   "display_name": "Python 3",
   "language": "python",
   "name": "python3"
  },
  "language_info": {
   "codemirror_mode": {
    "name": "ipython",
    "version": 3
   },
   "file_extension": ".py",
   "mimetype": "text/x-python",
   "name": "python",
   "nbconvert_exporter": "python",
   "pygments_lexer": "ipython3",
   "version": "3.7.10"
  },
  "toc": {
   "base_numbering": 1,
   "nav_menu": {},
   "number_sections": true,
   "sideBar": true,
   "skip_h1_title": false,
   "title_cell": "Table of Contents",
   "title_sidebar": "Contents",
   "toc_cell": false,
   "toc_position": {},
   "toc_section_display": true,
   "toc_window_display": true
  },
  "varInspector": {
   "cols": {
    "lenName": 16,
    "lenType": 16,
    "lenVar": 40
   },
   "kernels_config": {
    "python": {
     "delete_cmd_postfix": "",
     "delete_cmd_prefix": "del ",
     "library": "var_list.py",
     "varRefreshCmd": "print(var_dic_list())"
    },
    "r": {
     "delete_cmd_postfix": ") ",
     "delete_cmd_prefix": "rm(",
     "library": "var_list.r",
     "varRefreshCmd": "cat(var_dic_list()) "
    }
   },
   "types_to_exclude": [
    "module",
    "function",
    "builtin_function_or_method",
    "instance",
    "_Feature"
   ],
   "window_display": false
  }
 },
 "nbformat": 4,
 "nbformat_minor": 5
}
