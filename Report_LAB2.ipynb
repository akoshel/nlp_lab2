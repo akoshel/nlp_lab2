{
 "cells": [
  {
   "cell_type": "code",
   "execution_count": 1,
   "id": "fe230b05",
   "metadata": {
    "ExecuteTime": {
     "end_time": "2021-05-23T18:04:30.625455Z",
     "start_time": "2021-05-23T18:04:29.239736Z"
    }
   },
   "outputs": [],
   "source": [
    "import torch\n",
    "import tqdm\n",
    "from nltk.translate.bleu_score import corpus_bleu\n",
    "from torchtext.legacy.data import BucketIterator\n",
    "from config import read_training_pipeline_params\n",
    "from load_data import get_dataset, split_data, _len_sort_key\n",
    "import my_network\n",
    "from train_model import evaluate\n",
    "from utils import generate_translation, get_text\n",
    "import random\n",
    "import numpy as np"
   ]
  },
  {
   "cell_type": "markdown",
   "id": "f9aa0cd7",
   "metadata": {},
   "source": [
    "## Seq2seq c предобученным эмбедингом"
   ]
  },
  {
   "cell_type": "markdown",
   "id": "2676712a",
   "metadata": {},
   "source": [
    "Обучал 20 эпох, каждая эпоха примерно 1мин 10сек"
   ]
  },
  {
   "cell_type": "code",
   "execution_count": 2,
   "id": "52bd1c5b",
   "metadata": {
    "ExecuteTime": {
     "end_time": "2021-05-23T11:16:21.825098Z",
     "start_time": "2021-05-23T11:16:21.815976Z"
    }
   },
   "outputs": [],
   "source": [
    "SEED = 1234\n",
    "\n",
    "random.seed(SEED)\n",
    "np.random.seed(SEED)\n",
    "torch.manual_seed(SEED)\n",
    "torch.cuda.manual_seed(SEED)\n",
    "torch.backends.cudnn.deterministic = True"
   ]
  },
  {
   "cell_type": "code",
   "execution_count": 3,
   "id": "616cfb7a",
   "metadata": {
    "ExecuteTime": {
     "end_time": "2021-05-23T10:46:13.538837Z",
     "start_time": "2021-05-23T10:46:13.536231Z"
    }
   },
   "outputs": [],
   "source": [
    "Encoder = my_network.Encoder\n",
    "Decoder = my_network.Decoder\n",
    "Seq2Seq = my_network.Seq2Seq"
   ]
  },
  {
   "cell_type": "code",
   "execution_count": 4,
   "id": "da733e27",
   "metadata": {
    "ExecuteTime": {
     "end_time": "2021-05-18T18:28:54.398447Z",
     "start_time": "2021-05-18T18:28:54.389215Z"
    }
   },
   "outputs": [],
   "source": [
    "config = read_training_pipeline_params(\"train_config_pretrained_emb.yaml\")"
   ]
  },
  {
   "cell_type": "code",
   "execution_count": 5,
   "id": "8c82a16f",
   "metadata": {
    "ExecuteTime": {
     "end_time": "2021-05-18T18:28:55.066744Z",
     "start_time": "2021-05-18T18:28:55.063926Z"
    }
   },
   "outputs": [],
   "source": [
    "device = torch.device('cuda' if torch.cuda.is_available() else 'cpu')"
   ]
  },
  {
   "cell_type": "code",
   "execution_count": 7,
   "id": "9084528a",
   "metadata": {
    "ExecuteTime": {
     "end_time": "2021-05-21T11:11:59.373416Z",
     "start_time": "2021-05-21T11:11:55.526164Z"
    }
   },
   "outputs": [
    {
     "ename": "NameError",
     "evalue": "name 'device' is not defined",
     "output_type": "error",
     "traceback": [
      "\u001b[0;31m---------------------------------------------------------------------------\u001b[0m",
      "\u001b[0;31mNameError\u001b[0m                                 Traceback (most recent call last)",
      "\u001b[0;32m<ipython-input-7-39469e6fb273>\u001b[0m in \u001b[0;36m<module>\u001b[0;34m\u001b[0m\n\u001b[1;32m      8\u001b[0m     \u001b[0;34m(\u001b[0m\u001b[0mtrain_data\u001b[0m\u001b[0;34m,\u001b[0m \u001b[0mvalid_data\u001b[0m\u001b[0;34m,\u001b[0m \u001b[0mtest_data\u001b[0m\u001b[0;34m)\u001b[0m\u001b[0;34m,\u001b[0m\u001b[0;34m\u001b[0m\u001b[0;34m\u001b[0m\u001b[0m\n\u001b[1;32m      9\u001b[0m     \u001b[0mbatch_size\u001b[0m\u001b[0;34m=\u001b[0m\u001b[0mconfig\u001b[0m\u001b[0;34m.\u001b[0m\u001b[0mBATCH_SIZE\u001b[0m\u001b[0;34m,\u001b[0m\u001b[0;34m\u001b[0m\u001b[0;34m\u001b[0m\u001b[0m\n\u001b[0;32m---> 10\u001b[0;31m     \u001b[0mdevice\u001b[0m\u001b[0;34m=\u001b[0m\u001b[0mdevice\u001b[0m\u001b[0;34m,\u001b[0m\u001b[0;34m\u001b[0m\u001b[0;34m\u001b[0m\u001b[0m\n\u001b[0m\u001b[1;32m     11\u001b[0m     \u001b[0msort_key\u001b[0m\u001b[0;34m=\u001b[0m\u001b[0m_len_sort_key\u001b[0m\u001b[0;34m\u001b[0m\u001b[0;34m\u001b[0m\u001b[0m\n\u001b[1;32m     12\u001b[0m )\n",
      "\u001b[0;31mNameError\u001b[0m: name 'device' is not defined"
     ]
    }
   ],
   "source": [
    "SRC, TRG, dataset = get_dataset(config.dataset_path)\n",
    "train_data, valid_data, test_data = split_data(dataset, **config.split_ration.__dict__)\n",
    "SRC.vocab = torch.load(\"vocabs/src_vocab_pret\")\n",
    "TRG.vocab = torch.load(\"vocabs/trg_vocab_pret\")\n",
    "# SRC.build_vocab(train_data, min_freq=3)\n",
    "# TRG.build_vocab(train_data, min_freq=3)\n",
    "train_iterator, valid_iterator, test_iterator = BucketIterator.splits(\n",
    "    (train_data, valid_data, test_data),\n",
    "    batch_size=config.BATCH_SIZE,\n",
    "    device=device,\n",
    "    sort_key=_len_sort_key\n",
    ")"
   ]
  },
  {
   "cell_type": "code",
   "execution_count": 7,
   "id": "96521335",
   "metadata": {
    "ExecuteTime": {
     "end_time": "2021-05-18T18:29:04.496149Z",
     "start_time": "2021-05-18T18:29:04.492679Z"
    }
   },
   "outputs": [],
   "source": [
    "INPUT_DIM = len(SRC.vocab)\n",
    "OUTPUT_DIM = len(TRG.vocab)"
   ]
  },
  {
   "cell_type": "code",
   "execution_count": 8,
   "id": "15e30f3b",
   "metadata": {
    "ExecuteTime": {
     "end_time": "2021-05-18T18:29:06.360964Z",
     "start_time": "2021-05-18T18:29:06.257746Z"
    }
   },
   "outputs": [],
   "source": [
    "enc = Encoder(INPUT_DIM, config.net_params.ENC_EMB_DIM, config.net_params.HID_DIM,\n",
    "              config.net_params.N_LAYERS, config.net_params.ENC_DROPOUT)\n",
    "dec = Decoder(OUTPUT_DIM, config.net_params.DEC_EMB_DIM, config.net_params.HID_DIM,\n",
    "              config.net_params.N_LAYERS, config.net_params.DEC_DROPOUT)"
   ]
  },
  {
   "cell_type": "code",
   "execution_count": 9,
   "id": "73510f3e",
   "metadata": {
    "ExecuteTime": {
     "end_time": "2021-05-18T18:29:09.096640Z",
     "start_time": "2021-05-18T18:29:09.086622Z"
    }
   },
   "outputs": [
    {
     "data": {
      "text/plain": [
       "Seq2Seq(\n",
       "  (encoder): Encoder(\n",
       "    (embedding): Embedding(9252, 300)\n",
       "    (rnn): LSTM(300, 512, num_layers=2, dropout=0.5)\n",
       "    (dropout): Dropout(p=0.5, inplace=False)\n",
       "  )\n",
       "  (decoder): Decoder(\n",
       "    (embedding): Embedding(6734, 300)\n",
       "    (rnn): LSTM(300, 512, num_layers=2, dropout=0.5)\n",
       "    (out): Linear(in_features=512, out_features=6734, bias=True)\n",
       "    (dropout): Dropout(p=0.5, inplace=False)\n",
       "  )\n",
       ")"
      ]
     },
     "execution_count": 9,
     "metadata": {},
     "output_type": "execute_result"
    }
   ],
   "source": [
    "model = Seq2Seq(enc, dec, device).to(device)\n",
    "model.eval()"
   ]
  },
  {
   "cell_type": "code",
   "execution_count": 10,
   "id": "3bb9ab84",
   "metadata": {
    "ExecuteTime": {
     "end_time": "2021-05-18T18:29:20.515290Z",
     "start_time": "2021-05-18T18:29:20.351674Z"
    }
   },
   "outputs": [
    {
     "data": {
      "text/plain": [
       "<All keys matched successfully>"
      ]
     },
     "execution_count": 10,
     "metadata": {},
     "output_type": "execute_result"
    }
   ],
   "source": [
    "checkpoint = torch.load(\"models/pret_emb_model.pt\", map_location='cpu')\n",
    "model.load_state_dict(checkpoint, strict=True)"
   ]
  },
  {
   "cell_type": "code",
   "execution_count": 13,
   "id": "2c250e57",
   "metadata": {
    "ExecuteTime": {
     "end_time": "2021-05-18T18:29:31.813439Z",
     "start_time": "2021-05-18T18:29:31.481498Z"
    }
   },
   "outputs": [
    {
     "name": "stdout",
     "output_type": "stream",
     "text": [
      "Source: гости могут готовить на общей кухне .\n",
      "Original: you will find a shared kitchen at the property .\n",
      "Generated: guests will find a shared kitchen .\n",
      "\n",
      "Source: у отеля разбит большой сад .\n",
      "Original: the hotel has large gardens .\n",
      "Generated: at a terrace .\n",
      "\n",
      "Source: по запросу и за дополнительную плату организуется трансфер .\n",
      "Original: a shuttle service can be arranged on request at an additional fee .\n",
      "Generated: airport , and shuttle service can be arranged at a surcharge .\n",
      "\n",
      "Source: поездка до международного аэропорта дель бахио займет 25 минут .\n",
      "Original: the international airport can be reached in a 25 - minute drive .\n",
      "Generated: international airport is a minutes - minute drive away .\n",
      "\n",
      "Source: в собственной ванной комнате в вашем распоряжении душ и ванна .\n",
      "Original: featuring a shower , private bathroom also comes with a bathtub .\n",
      "Generated: the private bathroom comes with a bath or shower .\n",
      "\n",
      "Source: помимо этого , на территории отеля гости смогут воспользоваться принадлежностями для барбекю .\n",
      "Original: barbecue facilities are also available on site .\n",
      "Generated: guests can use the shared kitchen .\n",
      "\n"
     ]
    }
   ],
   "source": [
    "for idx, batch in enumerate(test_iterator):\n",
    "    if idx > 5:\n",
    "        break\n",
    "    src = batch.src[:, idx:idx+1]\n",
    "    trg = batch.trg[:, idx:idx+1]\n",
    "    \n",
    "    generate_translation(src, trg, model, TRG.vocab, SRC.vocab)"
   ]
  },
  {
   "cell_type": "code",
   "execution_count": 26,
   "id": "ef7ebf87",
   "metadata": {
    "ExecuteTime": {
     "end_time": "2021-05-18T18:17:00.278090Z",
     "start_time": "2021-05-18T18:15:50.734577Z"
    }
   },
   "outputs": [
    {
     "name": "stderr",
     "output_type": "stream",
     "text": [
      "15it [01:09,  4.64s/it]\n"
     ]
    }
   ],
   "source": [
    "original_text = []\n",
    "generated_text = []\n",
    "with torch.no_grad():\n",
    "\n",
    "    for i, batch in tqdm.tqdm(enumerate(test_iterator)):\n",
    "\n",
    "        src = batch.src\n",
    "        trg = batch.trg\n",
    "\n",
    "        output = model(src, trg, 0) #turn off teacher forcing\n",
    "\n",
    "        #trg = [trg sent len, batch size]\n",
    "        #output = [trg sent len, batch size, output dim]\n",
    "\n",
    "        output = output.argmax(dim=-1)\n",
    "        \n",
    "        original_text.extend([get_text(x, TRG.vocab) for x in trg.cpu().numpy().T])\n",
    "        generated_text.extend([get_text(x, TRG.vocab) for x in output[1:].detach().cpu().numpy().T])\n"
   ]
  },
  {
   "cell_type": "code",
   "execution_count": 45,
   "id": "e89acf8a",
   "metadata": {
    "ExecuteTime": {
     "end_time": "2021-05-18T17:40:26.510060Z",
     "start_time": "2021-05-18T17:40:24.165861Z"
    }
   },
   "outputs": [
    {
     "data": {
      "text/plain": [
       "1.393766008719758"
      ]
     },
     "execution_count": 45,
     "metadata": {},
     "output_type": "execute_result"
    }
   ],
   "source": [
    "corpus_bleu([[text] for text in original_text], generated_text) * 100"
   ]
  },
  {
   "cell_type": "markdown",
   "id": "5cf1e27c",
   "metadata": {},
   "source": [
    "## Seq2Seq с предобученным эмбедингом и аттеншеном"
   ]
  },
  {
   "cell_type": "markdown",
   "id": "5432700b",
   "metadata": {},
   "source": [
    "Время эпохи увеличилось примерно до 3-х минут. Где-то после 8-й эпохи модель начала переобучаться"
   ]
  },
  {
   "cell_type": "code",
   "execution_count": 4,
   "id": "0957040b",
   "metadata": {
    "ExecuteTime": {
     "end_time": "2021-05-21T11:11:30.598325Z",
     "start_time": "2021-05-21T11:11:30.574690Z"
    }
   },
   "outputs": [],
   "source": [
    "import network_gru_attention"
   ]
  },
  {
   "cell_type": "code",
   "execution_count": 5,
   "id": "ad12cf59",
   "metadata": {
    "ExecuteTime": {
     "end_time": "2021-05-21T11:11:31.303307Z",
     "start_time": "2021-05-21T11:11:31.293408Z"
    }
   },
   "outputs": [],
   "source": [
    "config = read_training_pipeline_params(\"train_config_pretrained_emb.yaml\")"
   ]
  },
  {
   "cell_type": "code",
   "execution_count": 9,
   "id": "ae86ab31",
   "metadata": {
    "ExecuteTime": {
     "end_time": "2021-05-21T11:12:39.473093Z",
     "start_time": "2021-05-21T11:12:36.566058Z"
    }
   },
   "outputs": [],
   "source": [
    "device = torch.device('cuda' if torch.cuda.is_available() else 'cpu')\n",
    "\n",
    "SRC, TRG, dataset = get_dataset(config.dataset_path)\n",
    "train_data, valid_data, test_data = split_data(dataset, **config.split_ration.__dict__)\n",
    "SRC.vocab = torch.load(\"vocabs/src_vocab_attn\")\n",
    "TRG.vocab = torch.load(\"vocabs/trg_vocab_attn\")\n",
    "train_iterator, valid_iterator, test_iterator = BucketIterator.splits(\n",
    "    (train_data, valid_data, test_data),\n",
    "    batch_size=config.BATCH_SIZE,\n",
    "    device=device,\n",
    "    sort_key=_len_sort_key\n",
    ")"
   ]
  },
  {
   "cell_type": "code",
   "execution_count": 10,
   "id": "66f587e8",
   "metadata": {
    "ExecuteTime": {
     "end_time": "2021-05-21T11:12:49.120298Z",
     "start_time": "2021-05-21T11:12:49.117737Z"
    }
   },
   "outputs": [],
   "source": [
    "INPUT_DIM = len(SRC.vocab)\n",
    "OUTPUT_DIM = len(TRG.vocab)"
   ]
  },
  {
   "cell_type": "code",
   "execution_count": 11,
   "id": "2364a477",
   "metadata": {
    "ExecuteTime": {
     "end_time": "2021-05-21T11:12:51.476237Z",
     "start_time": "2021-05-21T11:12:51.325287Z"
    }
   },
   "outputs": [],
   "source": [
    "Encoder = network_gru_attention.Encoder\n",
    "Decoder = network_gru_attention.Decoder\n",
    "Seq2Seq = network_gru_attention.Seq2Seq\n",
    "Attention = network_gru_attention.Attention\n",
    "attn = Attention(config.net_params.HID_DIM, config.net_params.HID_DIM)\n",
    "enc = Encoder(INPUT_DIM, config.net_params.ENC_EMB_DIM, config.net_params.HID_DIM, config.net_params.HID_DIM,\n",
    "              config.net_params.ENC_DROPOUT)\n",
    "dec = Decoder(OUTPUT_DIM, config.net_params.DEC_EMB_DIM, config.net_params.HID_DIM, config.net_params.HID_DIM,\n",
    "              config.net_params.DEC_DROPOUT, attn)\n",
    "\n",
    "model = Seq2Seq(enc, dec, device)"
   ]
  },
  {
   "cell_type": "code",
   "execution_count": 12,
   "id": "4ac12939",
   "metadata": {
    "ExecuteTime": {
     "end_time": "2021-05-21T11:13:22.018507Z",
     "start_time": "2021-05-21T11:13:21.501934Z"
    }
   },
   "outputs": [
    {
     "data": {
      "text/plain": [
       "<All keys matched successfully>"
      ]
     },
     "execution_count": 12,
     "metadata": {},
     "output_type": "execute_result"
    }
   ],
   "source": [
    "checkpoint = torch.load(\"models/attn_model.pt\", map_location='cpu')\n",
    "model.load_state_dict(checkpoint, strict=True)"
   ]
  },
  {
   "cell_type": "code",
   "execution_count": 16,
   "id": "7fc48474",
   "metadata": {
    "ExecuteTime": {
     "end_time": "2021-05-21T12:34:19.672254Z",
     "start_time": "2021-05-21T12:34:19.603169Z"
    }
   },
   "outputs": [
    {
     "data": {
      "text/plain": [
       "Seq2Seq(\n",
       "  (encoder): Encoder(\n",
       "    (embedding): Embedding(9252, 300)\n",
       "    (rnn): GRU(300, 512, bidirectional=True)\n",
       "    (fc): Linear(in_features=1024, out_features=512, bias=True)\n",
       "    (dropout): Dropout(p=0.5, inplace=False)\n",
       "  )\n",
       "  (decoder): Decoder(\n",
       "    (attention): Attention(\n",
       "      (attn): Linear(in_features=1536, out_features=512, bias=True)\n",
       "      (v): Linear(in_features=512, out_features=1, bias=False)\n",
       "    )\n",
       "    (embedding): Embedding(6734, 300)\n",
       "    (rnn): GRU(1324, 512)\n",
       "    (fc_out): Linear(in_features=1836, out_features=6734, bias=True)\n",
       "    (dropout): Dropout(p=0.5, inplace=False)\n",
       "  )\n",
       ")"
      ]
     },
     "execution_count": 16,
     "metadata": {},
     "output_type": "execute_result"
    }
   ],
   "source": [
    "model.eval()"
   ]
  },
  {
   "cell_type": "code",
   "execution_count": 17,
   "id": "39d03f26",
   "metadata": {
    "ExecuteTime": {
     "end_time": "2021-05-21T12:34:22.500435Z",
     "start_time": "2021-05-21T12:34:20.683239Z"
    }
   },
   "outputs": [
    {
     "name": "stdout",
     "output_type": "stream",
     "text": [
      "Source: дети до 11 лет размещаются бесплатно .\n",
      "Original: children under 11 stay for free .\n",
      "Generated: children ’ s playground is free free of charge .\n",
      "\n",
      "Source: на стойке регистрации можно взять бесплатные газеты .\n",
      "Original: free newspapers are available at the reception .\n",
      "Generated: free newspapers can be free at the reception desk and free .\n",
      "\n",
      "Source: расстояние до международного аэропорта бухареста составляет км .\n",
      "Original: bucharest international airport is km from here .\n",
      "Generated: the nearest airport is belgrade international airport , km from the property .\n",
      "\n",
      "Source: научный центр расположен в 20 , 2 км .\n",
      "Original: science center is 12 . 6 miles away .\n",
      "Generated: the center center is 20 . 2 km away .\n",
      "\n",
      "Source: к услугам гостей кабельное телевидение , стиральная машина и микроволновая печь .\n",
      "Original: facilities include cable tv , washing machine and microwave .\n",
      "Generated: the cable tv , a washing machine , a washing machine and a microwave .\n",
      "\n",
      "Source: гости могут провести время за просмотром dvd - фильмов или кабельных каналов .\n",
      "Original: guest can enjoy watching dvd films or cable channels .\n",
      "Generated: guests can watch a dvd player , cable channels and cable channels .\n",
      "\n"
     ]
    }
   ],
   "source": [
    "for idx, batch in enumerate(test_iterator):\n",
    "    if idx > 5:\n",
    "        break\n",
    "    src = batch.src[:, idx:idx+1]\n",
    "    trg = batch.trg[:, idx:idx+1]\n",
    "    \n",
    "    generate_translation(src, trg, model, TRG.vocab, SRC.vocab)"
   ]
  },
  {
   "cell_type": "code",
   "execution_count": 18,
   "id": "f3616349",
   "metadata": {
    "ExecuteTime": {
     "end_time": "2021-05-21T12:37:57.946559Z",
     "start_time": "2021-05-21T12:34:23.978247Z"
    }
   },
   "outputs": [
    {
     "name": "stderr",
     "output_type": "stream",
     "text": [
      "15it [03:33, 14.26s/it]\n"
     ]
    }
   ],
   "source": [
    "original_text = []\n",
    "generated_text = []\n",
    "with torch.no_grad():\n",
    "\n",
    "    for i, batch in tqdm.tqdm(enumerate(test_iterator)):\n",
    "\n",
    "        src = batch.src\n",
    "        trg = batch.trg\n",
    "\n",
    "        output = model(src, trg, 0) #turn off teacher forcing\n",
    "\n",
    "        #trg = [trg sent len, batch size]\n",
    "        #output = [trg sent len, batch size, output dim]\n",
    "\n",
    "        output = output.argmax(dim=-1)\n",
    "        \n",
    "        original_text.extend([get_text(x, TRG.vocab) for x in trg.cpu().numpy().T])\n",
    "        generated_text.extend([get_text(x, TRG.vocab) for x in output[1:].detach().cpu().numpy().T])\n"
   ]
  },
  {
   "cell_type": "code",
   "execution_count": 19,
   "id": "e6956740",
   "metadata": {
    "ExecuteTime": {
     "end_time": "2021-05-21T12:37:59.540371Z",
     "start_time": "2021-05-21T12:37:58.030485Z"
    }
   },
   "outputs": [
    {
     "data": {
      "text/plain": [
       "30.54667083223913"
      ]
     },
     "execution_count": 19,
     "metadata": {},
     "output_type": "execute_result"
    }
   ],
   "source": [
    "corpus_bleu([[text] for text in original_text], generated_text) * 100"
   ]
  },
  {
   "cell_type": "markdown",
   "id": "e266e7a5",
   "metadata": {},
   "source": [
    "## Seq2seq Трансформер с предобученным эмбедингом"
   ]
  },
  {
   "cell_type": "code",
   "execution_count": 2,
   "id": "3e615fee",
   "metadata": {
    "ExecuteTime": {
     "end_time": "2021-05-23T18:04:51.564148Z",
     "start_time": "2021-05-23T18:04:51.527406Z"
    }
   },
   "outputs": [],
   "source": [
    "import network_transformer"
   ]
  },
  {
   "cell_type": "code",
   "execution_count": 3,
   "id": "8128b394",
   "metadata": {
    "ExecuteTime": {
     "end_time": "2021-05-23T18:04:52.876147Z",
     "start_time": "2021-05-23T18:04:52.862472Z"
    }
   },
   "outputs": [],
   "source": [
    "config = read_training_pipeline_params(\"train_config_pretrained_emb_transformer.yaml\")"
   ]
  },
  {
   "cell_type": "code",
   "execution_count": 5,
   "id": "85cffcd8",
   "metadata": {
    "ExecuteTime": {
     "end_time": "2021-05-23T18:05:54.104471Z",
     "start_time": "2021-05-23T18:05:51.814239Z"
    }
   },
   "outputs": [],
   "source": [
    "device = torch.device('cuda' if torch.cuda.is_available() else 'cpu')\n",
    "\n",
    "SRC, TRG, dataset = get_dataset(config.dataset_path, config.net_params.transformer)\n",
    "train_data, valid_data, test_data = split_data(dataset, **config.split_ration.__dict__)\n",
    "SRC.vocab = torch.load(\"vocabs/src_vocab_transformer\")\n",
    "TRG.vocab = torch.load(\"vocabs/trg_vocab_transformer\")\n",
    "train_iterator, valid_iterator, test_iterator = BucketIterator.splits(\n",
    "    (train_data, valid_data, test_data),\n",
    "    batch_size=config.BATCH_SIZE,\n",
    "    device=device,\n",
    "    sort_key=_len_sort_key\n",
    ")"
   ]
  },
  {
   "cell_type": "code",
   "execution_count": 7,
   "id": "6b1f0136",
   "metadata": {
    "ExecuteTime": {
     "end_time": "2021-05-23T18:08:51.328258Z",
     "start_time": "2021-05-23T18:08:51.325738Z"
    }
   },
   "outputs": [],
   "source": [
    "INPUT_DIM = len(SRC.vocab)\n",
    "OUTPUT_DIM = len(TRG.vocab)"
   ]
  },
  {
   "cell_type": "code",
   "execution_count": 8,
   "id": "166d3d79",
   "metadata": {
    "ExecuteTime": {
     "end_time": "2021-05-23T18:08:52.352359Z",
     "start_time": "2021-05-23T18:08:52.246564Z"
    }
   },
   "outputs": [],
   "source": [
    "Encoder = network_transformer.Encoder\n",
    "Decoder = network_transformer.Decoder\n",
    "Seq2Seq = network_transformer.Seq2Seq\n",
    "SRC_PAD_IDX = SRC.vocab.stoi[SRC.pad_token]\n",
    "TRG_PAD_IDX = TRG.vocab.stoi[TRG.pad_token]\n",
    "HID_DIM = 256\n",
    "ENC_LAYERS = 3\n",
    "DEC_LAYERS = 3\n",
    "ENC_HEADS = 8\n",
    "DEC_HEADS = 8\n",
    "ENC_PF_DIM = 512\n",
    "DEC_PF_DIM = 512\n",
    "ENC_DROPOUT = 0.1\n",
    "DEC_DROPOUT = 0.1\n",
    "\n",
    "enc = Encoder(INPUT_DIM,\n",
    "              HID_DIM,\n",
    "              ENC_LAYERS,\n",
    "              ENC_HEADS,\n",
    "              ENC_PF_DIM,\n",
    "              ENC_DROPOUT,\n",
    "              device)\n",
    "\n",
    "dec = Decoder(OUTPUT_DIM,\n",
    "              HID_DIM,\n",
    "              DEC_LAYERS,\n",
    "              DEC_HEADS,\n",
    "              DEC_PF_DIM,\n",
    "              DEC_DROPOUT,\n",
    "              device)\n",
    "model = Seq2Seq(enc, dec, SRC_PAD_IDX, TRG_PAD_IDX, device)"
   ]
  },
  {
   "cell_type": "code",
   "execution_count": 9,
   "id": "73efe073",
   "metadata": {
    "ExecuteTime": {
     "end_time": "2021-05-23T18:08:58.291428Z",
     "start_time": "2021-05-23T18:08:58.149114Z"
    }
   },
   "outputs": [
    {
     "data": {
      "text/plain": [
       "<All keys matched successfully>"
      ]
     },
     "execution_count": 9,
     "metadata": {},
     "output_type": "execute_result"
    }
   ],
   "source": [
    "checkpoint = torch.load(\"models/transformer_model.pt\", map_location='cpu')\n",
    "model.load_state_dict(checkpoint, strict=True)"
   ]
  },
  {
   "cell_type": "code",
   "execution_count": 10,
   "id": "cb57dcc7",
   "metadata": {
    "ExecuteTime": {
     "end_time": "2021-05-23T18:09:26.145836Z",
     "start_time": "2021-05-23T18:09:26.140568Z"
    }
   },
   "outputs": [
    {
     "data": {
      "text/plain": [
       "Seq2Seq(\n",
       "  (encoder): Encoder(\n",
       "    (tok_embedding): Embedding(9252, 256)\n",
       "    (pos_embedding): Embedding(100, 256)\n",
       "    (layers): ModuleList(\n",
       "      (0): EncoderLayer(\n",
       "        (self_attn_layer_norm): LayerNorm((256,), eps=1e-05, elementwise_affine=True)\n",
       "        (ff_layer_norm): LayerNorm((256,), eps=1e-05, elementwise_affine=True)\n",
       "        (self_attention): MultiHeadAttentionLayer(\n",
       "          (fc_q): Linear(in_features=256, out_features=256, bias=True)\n",
       "          (fc_k): Linear(in_features=256, out_features=256, bias=True)\n",
       "          (fc_v): Linear(in_features=256, out_features=256, bias=True)\n",
       "          (fc_o): Linear(in_features=256, out_features=256, bias=True)\n",
       "          (dropout): Dropout(p=0.1, inplace=False)\n",
       "        )\n",
       "        (positionwise_feedforward): PositionwiseFeedforwardLayer(\n",
       "          (fc_1): Linear(in_features=256, out_features=512, bias=True)\n",
       "          (fc_2): Linear(in_features=512, out_features=256, bias=True)\n",
       "          (dropout): Dropout(p=0.1, inplace=False)\n",
       "        )\n",
       "        (dropout): Dropout(p=0.1, inplace=False)\n",
       "      )\n",
       "      (1): EncoderLayer(\n",
       "        (self_attn_layer_norm): LayerNorm((256,), eps=1e-05, elementwise_affine=True)\n",
       "        (ff_layer_norm): LayerNorm((256,), eps=1e-05, elementwise_affine=True)\n",
       "        (self_attention): MultiHeadAttentionLayer(\n",
       "          (fc_q): Linear(in_features=256, out_features=256, bias=True)\n",
       "          (fc_k): Linear(in_features=256, out_features=256, bias=True)\n",
       "          (fc_v): Linear(in_features=256, out_features=256, bias=True)\n",
       "          (fc_o): Linear(in_features=256, out_features=256, bias=True)\n",
       "          (dropout): Dropout(p=0.1, inplace=False)\n",
       "        )\n",
       "        (positionwise_feedforward): PositionwiseFeedforwardLayer(\n",
       "          (fc_1): Linear(in_features=256, out_features=512, bias=True)\n",
       "          (fc_2): Linear(in_features=512, out_features=256, bias=True)\n",
       "          (dropout): Dropout(p=0.1, inplace=False)\n",
       "        )\n",
       "        (dropout): Dropout(p=0.1, inplace=False)\n",
       "      )\n",
       "      (2): EncoderLayer(\n",
       "        (self_attn_layer_norm): LayerNorm((256,), eps=1e-05, elementwise_affine=True)\n",
       "        (ff_layer_norm): LayerNorm((256,), eps=1e-05, elementwise_affine=True)\n",
       "        (self_attention): MultiHeadAttentionLayer(\n",
       "          (fc_q): Linear(in_features=256, out_features=256, bias=True)\n",
       "          (fc_k): Linear(in_features=256, out_features=256, bias=True)\n",
       "          (fc_v): Linear(in_features=256, out_features=256, bias=True)\n",
       "          (fc_o): Linear(in_features=256, out_features=256, bias=True)\n",
       "          (dropout): Dropout(p=0.1, inplace=False)\n",
       "        )\n",
       "        (positionwise_feedforward): PositionwiseFeedforwardLayer(\n",
       "          (fc_1): Linear(in_features=256, out_features=512, bias=True)\n",
       "          (fc_2): Linear(in_features=512, out_features=256, bias=True)\n",
       "          (dropout): Dropout(p=0.1, inplace=False)\n",
       "        )\n",
       "        (dropout): Dropout(p=0.1, inplace=False)\n",
       "      )\n",
       "    )\n",
       "    (dropout): Dropout(p=0.1, inplace=False)\n",
       "  )\n",
       "  (decoder): Decoder(\n",
       "    (tok_embedding): Embedding(6734, 256)\n",
       "    (pos_embedding): Embedding(100, 256)\n",
       "    (layers): ModuleList(\n",
       "      (0): DecoderLayer(\n",
       "        (self_attn_layer_norm): LayerNorm((256,), eps=1e-05, elementwise_affine=True)\n",
       "        (enc_attn_layer_norm): LayerNorm((256,), eps=1e-05, elementwise_affine=True)\n",
       "        (ff_layer_norm): LayerNorm((256,), eps=1e-05, elementwise_affine=True)\n",
       "        (self_attention): MultiHeadAttentionLayer(\n",
       "          (fc_q): Linear(in_features=256, out_features=256, bias=True)\n",
       "          (fc_k): Linear(in_features=256, out_features=256, bias=True)\n",
       "          (fc_v): Linear(in_features=256, out_features=256, bias=True)\n",
       "          (fc_o): Linear(in_features=256, out_features=256, bias=True)\n",
       "          (dropout): Dropout(p=0.1, inplace=False)\n",
       "        )\n",
       "        (encoder_attention): MultiHeadAttentionLayer(\n",
       "          (fc_q): Linear(in_features=256, out_features=256, bias=True)\n",
       "          (fc_k): Linear(in_features=256, out_features=256, bias=True)\n",
       "          (fc_v): Linear(in_features=256, out_features=256, bias=True)\n",
       "          (fc_o): Linear(in_features=256, out_features=256, bias=True)\n",
       "          (dropout): Dropout(p=0.1, inplace=False)\n",
       "        )\n",
       "        (positionwise_feedforward): PositionwiseFeedforwardLayer(\n",
       "          (fc_1): Linear(in_features=256, out_features=512, bias=True)\n",
       "          (fc_2): Linear(in_features=512, out_features=256, bias=True)\n",
       "          (dropout): Dropout(p=0.1, inplace=False)\n",
       "        )\n",
       "        (dropout): Dropout(p=0.1, inplace=False)\n",
       "      )\n",
       "      (1): DecoderLayer(\n",
       "        (self_attn_layer_norm): LayerNorm((256,), eps=1e-05, elementwise_affine=True)\n",
       "        (enc_attn_layer_norm): LayerNorm((256,), eps=1e-05, elementwise_affine=True)\n",
       "        (ff_layer_norm): LayerNorm((256,), eps=1e-05, elementwise_affine=True)\n",
       "        (self_attention): MultiHeadAttentionLayer(\n",
       "          (fc_q): Linear(in_features=256, out_features=256, bias=True)\n",
       "          (fc_k): Linear(in_features=256, out_features=256, bias=True)\n",
       "          (fc_v): Linear(in_features=256, out_features=256, bias=True)\n",
       "          (fc_o): Linear(in_features=256, out_features=256, bias=True)\n",
       "          (dropout): Dropout(p=0.1, inplace=False)\n",
       "        )\n",
       "        (encoder_attention): MultiHeadAttentionLayer(\n",
       "          (fc_q): Linear(in_features=256, out_features=256, bias=True)\n",
       "          (fc_k): Linear(in_features=256, out_features=256, bias=True)\n",
       "          (fc_v): Linear(in_features=256, out_features=256, bias=True)\n",
       "          (fc_o): Linear(in_features=256, out_features=256, bias=True)\n",
       "          (dropout): Dropout(p=0.1, inplace=False)\n",
       "        )\n",
       "        (positionwise_feedforward): PositionwiseFeedforwardLayer(\n",
       "          (fc_1): Linear(in_features=256, out_features=512, bias=True)\n",
       "          (fc_2): Linear(in_features=512, out_features=256, bias=True)\n",
       "          (dropout): Dropout(p=0.1, inplace=False)\n",
       "        )\n",
       "        (dropout): Dropout(p=0.1, inplace=False)\n",
       "      )\n",
       "      (2): DecoderLayer(\n",
       "        (self_attn_layer_norm): LayerNorm((256,), eps=1e-05, elementwise_affine=True)\n",
       "        (enc_attn_layer_norm): LayerNorm((256,), eps=1e-05, elementwise_affine=True)\n",
       "        (ff_layer_norm): LayerNorm((256,), eps=1e-05, elementwise_affine=True)\n",
       "        (self_attention): MultiHeadAttentionLayer(\n",
       "          (fc_q): Linear(in_features=256, out_features=256, bias=True)\n",
       "          (fc_k): Linear(in_features=256, out_features=256, bias=True)\n",
       "          (fc_v): Linear(in_features=256, out_features=256, bias=True)\n",
       "          (fc_o): Linear(in_features=256, out_features=256, bias=True)\n",
       "          (dropout): Dropout(p=0.1, inplace=False)\n",
       "        )\n",
       "        (encoder_attention): MultiHeadAttentionLayer(\n",
       "          (fc_q): Linear(in_features=256, out_features=256, bias=True)\n",
       "          (fc_k): Linear(in_features=256, out_features=256, bias=True)\n",
       "          (fc_v): Linear(in_features=256, out_features=256, bias=True)\n",
       "          (fc_o): Linear(in_features=256, out_features=256, bias=True)\n",
       "          (dropout): Dropout(p=0.1, inplace=False)\n",
       "        )\n",
       "        (positionwise_feedforward): PositionwiseFeedforwardLayer(\n",
       "          (fc_1): Linear(in_features=256, out_features=512, bias=True)\n",
       "          (fc_2): Linear(in_features=512, out_features=256, bias=True)\n",
       "          (dropout): Dropout(p=0.1, inplace=False)\n",
       "        )\n",
       "        (dropout): Dropout(p=0.1, inplace=False)\n",
       "      )\n",
       "    )\n",
       "    (fc_out): Linear(in_features=256, out_features=6734, bias=True)\n",
       "    (dropout): Dropout(p=0.1, inplace=False)\n",
       "  )\n",
       ")"
      ]
     },
     "execution_count": 10,
     "metadata": {},
     "output_type": "execute_result"
    }
   ],
   "source": [
    "model.eval()"
   ]
  },
  {
   "cell_type": "code",
   "execution_count": 12,
   "id": "6e3a3773",
   "metadata": {
    "ExecuteTime": {
     "end_time": "2021-05-23T18:10:33.734725Z",
     "start_time": "2021-05-23T18:10:33.597892Z"
    }
   },
   "outputs": [
    {
     "name": "stdout",
     "output_type": "stream",
     "text": [
      "Source: \n",
      "Original: \n",
      "Generated: a a a a a a a a a a a a a a a a a a a a a a a a a a a a a a a a a a a a a a a a a a a a a a a a a a a a a a a a a a a a a a a a a a a a a a a a a a a a a a a a a a a a a a a a a a a a a a a a a a a a a a a a a a a a a a a a a a a a a a a a a a a a a a a a a a a a a a a a a a a a a a a a a a a a a a a a a a a a a a a a a a a a a a a a a a a a a a a a a a a a a a a a a a a a a a a a a a a a a a a a a a a a a a a a a a a a a a a a a a a a a a a a a a a a a a a a a a a a a a a a a a a a a a a a a a a a a a a\n",
      "\n",
      "Source: гостям в гостям к в - в кроме в ежедневно в гости на позавтракать из гостям гостям в бесплатная на до на кроме на на до в в в постельное у предоставляются апартаменты до гостям в каждую в номер на каждое на в на в гости также гостям к аэропорт из на в регистрация в в кухня апартаменты большинство в при в на среди рядом гости на гости места местный гостям на гостям в по номера в в каждое на завтрак в в в до прямо на в в все в на поблизости эти до аэропорт также для в в гости все номера кухня в гостям на бунгало в лыжный в по повсеместно услуги гости также из на на в из в на гости в летом предоставляются предоставляются предоставляются в гостям также на в предоставляются предоставляются на также в гостям на кухня в на в апартаменты гости предоставляются гости предоставляются гости предоставляется на доступен терраса гости к имеется предоставляются на предоставляется стойка гостям полотенца на гости в на питание некоторые гости в в в у предоставляются в на неподалеку среди среди поблизости на собственная к на в собственная на каждое предоставляются в в ежедневно до номера для к в в установлен в в в на в гости в предоставляются в номера предоставляются в на здесь номера места во гости гости по в полотенца для в в парковка в стойка до кухня гости коттеджи места к во установлен стены на в поблизости завтрак к торговый кухня к неподалеку на к к некоторые для по\n",
      "Original: the the the free some - there room rooms daily there private there the you towels towels there free on lake free beach free free the the private the bed drinks towels the there towels there each it free your other breakfast free a free tour you guests extras laundry esquel you free shower check the certain an the most the at the free extras free guests luggage you there a towels there towels some guided the each each full free breakfast a a you st there free all private all junior a free other all gibraltar the this for the suites you every the an there towels it free the other a the breakfast the laundry guests satellite the free free certain you the free for private the towels towels towels a bed guests the free guests towels parking rooms private a the the free free the the other bed shared towels extras free free free the the the there towels free free you pool towels the guests en on no some parking a comfortable the the for some the public you you free free the you you this the private continental towels free the daily each a the you the a room a guest the some there all towels the the towels the the the guest free each the the the the towels free some guests a there there palau the cottages the it air a some there you free breakfast free an there free the it parking some the a\n",
      "Generated: in property is in - in also in daily in is on breakfast can are are in parking - is on also on on town in in in linen by are apartment is are in has in room on every on in on in can also include area airport can on in in in in kitchen apartment most in guests in on include next can on can space local are on are in by rooms in in every on is in in can and directly on in in have in on nearby m is airport also use in in can is rooms kitchen in are on bungalows in ski in around house services can also rooms on on in can in on guests in summer are are are in guests also on in have are on also in view on kitchen in on in apartment facilities and is are include and on is terrace inn area a are on and can is and on can in - meals some is in in in by self in on near can can nearby on private can on in private on every are in in daily can room holiday area can in shower in in can on in is in are in rooms are in on house rooms access floor inn inn on in and use in in parking in is to kitchen is and area offers all shower walls on can nearby is is shopping kitchen is near on offers is some area guided\n",
      "\n",
      "Source: собственной числе ванная всей вместимость собственной номера завтрак утрам некоторых запросу окон удобств предоставляются территории предоставляются отеле спальня вашим предоставляются вилле территории утро собственных 11 территории порта территории комплексе города утро прилегающей утрам отеле можно запросу комната территории ванной предоставляется отеля пафос территории утро территории установлен числе собственной бесплатный могут утро собственной утро запросу крепости предоставляется дополнительную числе тивата всей окон собственной предоставляются утро оснащены распоряжении услугам может территории некоторых номера предоставляются числе апартаментов оснащены предоставляются автобус баре территории территории тиват территории некоторых организуют всей удобств центра территории подключен регистрации территории числе могут некоторых окон оснащена территории всех к территории бесплатная территории того также собственной территории собственной номер комплекса предлагается также территории числе балкона с имеется территории оснащена оборудованы номера отеле территории территории 1 номера гостей детей апартаментов халаты 73 также утро некоторых территории собственной некоторых территории территории определенных могут смогут окон всех аэропорта апартаменты собственной территории могут номера распоряжении окон прачечной номеров 31 территории окон ванные действует территории ванные собственных регистрации всей территории апартаментах всех собственной предоставляются также всех общей окон доступен услуги территории территории территории собственной могут до них оснащена в собственной поселка здании номера территории до балконов территории дополнительную апартаментах территории песчаного месте белье собственных ванная числе территории предоставляется услугам жильцов прочих собственной всей номера всей территории в услугам собственной территории аэропорта трансфер ибицы магазинов могут услугам территории регистрации предоставляются территории территории услугам некоторых предоставляются собственной пулы собственной числе предоставляются с услугам собственной отеле некоторых собственной запросу утро номера услугам запросу распоряжении можно услугам территории запросу предоставляются трансфер бесплатная\n",
      "Original: private flat unit wi can private units chinese complimentary rooms can rooms and private and bedroom 24 linen villa free daily have is private is provides private unit is on is is is lunches bathroom parking bathrooms wifi hotel city private rich public flat private private wi facilities simple en is service apartment wifi property facilities airport wifi can bathroom and can room room square benefit property private rooms of and room can have and ski can on private nearest private units guest is wifi of private wifi is property rooms is rooms can kitchen can of parking private property private are and private can is room stop are can public room balcony bus is enjoy unit rooms rooms bed private wi hotel are private younger can your airport property breakfast units private en apartments private property hot hotel can can units nearest apartment unit private bicycle rooms room can services features unit property can shared wifi private shared bathrooms wifi private wi bathrooms linen airport meals rooms can can wifi exchange private private hotel private menus is room unit local is is parking rooms private is room can property will private sandy private linens bathrooms private include private wi benefit hotel washing is wi rooms wi parking can parking private private airport airport airport and rooms property parking plaza like private private units and can airport private tv and village offers private features of bathroom in is rooms offers shuttle room property features public towels and free airport private facilities\n",
      "Generated: screen en is . are breakfast is some can view include penthouse on penthouse hotel - is will on are a 11 on port on complex city every every at where on is is come is ’ a on every on also . . free include every private every available fortress is can include is throughout view private penthouse every are is free can on some the penthouse . apartment a penthouse with bar site on tivat on some can throughout is the on and at on are and some view is on all is on free on also also . on a is complex and also on . is with a on with have are hotel on is 1 guest . children apartment bathrobes directly also every some on private some on on some can by view all airport offers private on can are is view laundry rooms 31 on view bathrooms is on bathrooms come front throughout on apartment all private is also all shared view is services on on on . can with . with in a village building are on with balconies on can and on sandy top bed come bathroom . on and free also a is are is is in is . on is shuttle with shops are offers is front are on on . some penthouse private is . are penthouse with an . hotel some private request every are an upon is can an on are penthouse shuttle free at\n",
      "\n",
      "Source: дороги отеля аэропорта аэропорта духовкой отправить находится прочих метрах услуги аэропорта для художественного отелем территории оснащены подаются аэропорт самостоятельно открывается проведут аэропорта номерах общими комнате комната доме предоставляются отеля удобств обустроена территории поселка аэропорта номера аэропорта самостоятельно - ванной доступен аэропорта стойке на расположен отеля регистрации бесплатно номеров отремонтированы вашингтона на из находится аэропорта бесплатно стиральной могут также также отеля гостей оборудованы оставить аэропорта оборудованы центрального аэропорта гостей аэропорта расположена территории предоставляется города вам номерах апартаментах отелем сервируется ближайшего предоставляется гостей аэропорта оборудованная собственной бесплатная номерах аэропорта аэропорта аэропорта пляжей пляжу аэропорта просто км проживания аэропорта ресторане номере отеля аэропорта погоду входят готовить гости апартаментов можно предоставляется заказать аэропорта поселка могут предоставляется города аэропорта аэропорта размещение пользоваться комнате лыж города гостей аэропорта гостей из аэропорта трансфера мотеля имеется люксах дворца долины апартаментов ларнаки номерах в номере wi отеля еды оперного можно аэропорта имеется удобств toscana местной бесплатная доступ гостей озера города номеров удобств сад водопада аэропорта дворца inn производится каждое аэропорта комнате аэропорта автомобили гости гостей evleri номерах водопада крка бесплатная гостей города мармариса предоставляется комплекса снек предоставляются ватикана гостей собственных города гостей и воспользоваться курортного воспользоваться комнате номеров расположен номерах города гостей услугам кофе гостей магазины проживания в бесплатно аэропорта ванной sm отдохнуть — укомплектована гостей кастория террасе популярны находятся зале комплекса ванной для отеля для удобств собственной проживания могут аэропорта номеров пномпеня аэропорта аэропорта города гостей центра предусмотрена открывается располагают boutique аэропорта плату территории удобства мотеля мотеля баре гостей готовить бесплатная гостей\n",
      "Original: city parking airport is s also photocopying residence - is and is breakfast - parking parking feature , airport fairy include enjoy ’ is also either comes also private house offered offers a with parking 19 is or home find offers also is is airport can cemetery breakfast a parking are parking with apartments a on have centre is airport parking is also include features room find are is is is is airport a is is - access is are a include exposition provided beach - access is kitchen have parking them is is is are beach airport are town english is is comes parking is ; sweet a find parking can is sample is offers is can rooms a airport airport unit is comes is is is access is will have airport service is from have house of of also is have 13 come and parking is theatre cleaning also is are and can cuisine parking internet is is set the - include waterfall airport is outdoor , is suite airport ' is - offers have waterfall park parking has 27 centre free parking 41 laundry city is two 15 is relax who sells lift - is comes or is include 20 is enjoy coffee access , service is public is also has relax is a free of cooked enjoy shops and free bathroom enjoy shop also includes is calls at airport feature international is is 35 access centre offers can and boutique is fi parking is - motel also - a parking storage\n",
      "Generated: hotel is airport an is is other metres services airport is art hotel is a and is their view s airport rooms shared with bathroom offers a at bathroom the is village airport rooms airport a - include and is at on property hotel 24 free room were washington - views is free washing can also as hotel the with free airport with central is property airport a on and city by room apartment hotel with every daily is airport is private free in airport airport airport beaches private is simply km are airport at with hotel airport fine includes garden a apartment be and - airport village accommodate and city is is . all with ski city is airport on views is a motel it suites palace the apartments larnaca in in with wifi hotel room in . airport with - toscana local free access by lake in rooms other garden , is palace inn can every airport attached is s by guests in , free . town is and complex snack and - by private city by and are resort with with rooms located rooms city by . is is shops the in free airport include a . corner . the terrace popular and the complex bath holiday hotel use . a the guests is in guesthouse airport airport city is are terraces view in grande airport at is for motel motel bar guests garden free is\n",
      "\n"
     ]
    }
   ],
   "source": [
    "for idx, batch in enumerate(test_iterator):\n",
    "    if idx > 3:\n",
    "        break\n",
    "    src = batch.src[:, idx:idx+1]\n",
    "    trg = batch.trg[:, idx:idx+1]\n",
    "    \n",
    "    generate_translation(src, trg, model, TRG.vocab, SRC.vocab, config.net_params.transformer)"
   ]
  },
  {
   "cell_type": "code",
   "execution_count": 16,
   "id": "9874a620",
   "metadata": {
    "ExecuteTime": {
     "end_time": "2021-05-23T18:12:14.447239Z",
     "start_time": "2021-05-23T18:11:48.924821Z"
    }
   },
   "outputs": [
    {
     "name": "stderr",
     "output_type": "stream",
     "text": [
      "30it [00:25,  1.18it/s]\n"
     ]
    }
   ],
   "source": [
    "original_text = []\n",
    "generated_text = []\n",
    "with torch.no_grad():\n",
    "\n",
    "    for i, batch in tqdm.tqdm(enumerate(test_iterator)):\n",
    "\n",
    "        src = batch.src\n",
    "        trg = batch.trg\n",
    "\n",
    "        output, _ = model(src, trg) #turn off teacher forcing\n",
    "\n",
    "        #trg = [trg sent len, batch size]\n",
    "        #output = [trg sent len, batch size, output dim]\n",
    "\n",
    "        output = output.argmax(dim=-1)\n",
    "        \n",
    "        original_text.extend([get_text(x, TRG.vocab) for x in trg.cpu().numpy().T])\n",
    "        generated_text.extend([get_text(x, TRG.vocab) for x in output[1:].detach().cpu().numpy().T])\n"
   ]
  },
  {
   "cell_type": "code",
   "execution_count": 17,
   "id": "6e258a07",
   "metadata": {
    "ExecuteTime": {
     "end_time": "2021-05-23T18:13:42.197399Z",
     "start_time": "2021-05-23T18:13:41.932969Z"
    }
   },
   "outputs": [
    {
     "name": "stderr",
     "output_type": "stream",
     "text": [
      "/home/koshel/miniconda3/envs/edu/lib/python3.7/site-packages/nltk/translate/bleu_score.py:516: UserWarning: \n",
      "The hypothesis contains 0 counts of 4-gram overlaps.\n",
      "Therefore the BLEU score evaluates to 0, independently of\n",
      "how many N-gram overlaps of lower order it contains.\n",
      "Consider using lower n-gram order or use SmoothingFunction()\n",
      "  warnings.warn(_msg)\n"
     ]
    },
    {
     "data": {
      "text/plain": [
       "6.3223772129702204e-77"
      ]
     },
     "execution_count": 17,
     "metadata": {},
     "output_type": "execute_result"
    }
   ],
   "source": [
    "corpus_bleu([[text] for text in original_text], generated_text) * 100"
   ]
  },
  {
   "cell_type": "markdown",
   "id": "cb20baf2",
   "metadata": {},
   "source": [
    "## end"
   ]
  },
  {
   "cell_type": "code",
   "execution_count": null,
   "id": "3a896ca3",
   "metadata": {},
   "outputs": [],
   "source": []
  }
 ],
 "metadata": {
  "kernelspec": {
   "display_name": "Python 3",
   "language": "python",
   "name": "python3"
  },
  "language_info": {
   "codemirror_mode": {
    "name": "ipython",
    "version": 3
   },
   "file_extension": ".py",
   "mimetype": "text/x-python",
   "name": "python",
   "nbconvert_exporter": "python",
   "pygments_lexer": "ipython3",
   "version": "3.7.10"
  },
  "toc": {
   "base_numbering": 1,
   "nav_menu": {},
   "number_sections": true,
   "sideBar": true,
   "skip_h1_title": false,
   "title_cell": "Table of Contents",
   "title_sidebar": "Contents",
   "toc_cell": false,
   "toc_position": {},
   "toc_section_display": true,
   "toc_window_display": true
  },
  "varInspector": {
   "cols": {
    "lenName": 16,
    "lenType": 16,
    "lenVar": 40
   },
   "kernels_config": {
    "python": {
     "delete_cmd_postfix": "",
     "delete_cmd_prefix": "del ",
     "library": "var_list.py",
     "varRefreshCmd": "print(var_dic_list())"
    },
    "r": {
     "delete_cmd_postfix": ") ",
     "delete_cmd_prefix": "rm(",
     "library": "var_list.r",
     "varRefreshCmd": "cat(var_dic_list()) "
    }
   },
   "types_to_exclude": [
    "module",
    "function",
    "builtin_function_or_method",
    "instance",
    "_Feature"
   ],
   "window_display": false
  }
 },
 "nbformat": 4,
 "nbformat_minor": 5
}
