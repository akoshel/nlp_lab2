{
 "cells": [
  {
   "cell_type": "markdown",
   "id": "d7294399",
   "metadata": {},
   "source": [
    "## Imports"
   ]
  },
  {
   "cell_type": "code",
   "execution_count": 9,
   "id": "d974d12e",
   "metadata": {
    "ExecuteTime": {
     "end_time": "2021-06-21T16:16:44.882840Z",
     "start_time": "2021-06-21T16:16:44.879212Z"
    }
   },
   "outputs": [],
   "source": [
    "import torch\n",
    "import torch.nn as nn\n",
    "import tqdm\n",
    "from nltk.translate.bleu_score import corpus_bleu\n",
    "from torchtext.legacy.data import BucketIterator\n",
    "from config import read_training_pipeline_params\n",
    "from load_data import get_dataset, split_data, _len_sort_key\n",
    "import my_network\n",
    "from train_model import evaluate\n",
    "from utils import generate_translation, get_text\n",
    "import random\n",
    "import numpy as np\n",
    "from helpers import get_bleu"
   ]
  },
  {
   "cell_type": "code",
   "execution_count": 4,
   "id": "807ebb1d",
   "metadata": {
    "ExecuteTime": {
     "end_time": "2021-06-21T16:03:59.946026Z",
     "start_time": "2021-06-21T16:03:59.943499Z"
    }
   },
   "outputs": [],
   "source": [
    "import network_transformer"
   ]
  },
  {
   "cell_type": "markdown",
   "id": "0d3a72ea",
   "metadata": {
    "ExecuteTime": {
     "end_time": "2021-06-21T16:04:17.918579Z",
     "start_time": "2021-06-21T16:04:17.916003Z"
    }
   },
   "source": [
    "## load data"
   ]
  },
  {
   "cell_type": "code",
   "execution_count": 7,
   "id": "ae7d2ec3",
   "metadata": {
    "ExecuteTime": {
     "end_time": "2021-06-21T16:16:31.219296Z",
     "start_time": "2021-06-21T16:16:28.521366Z"
    },
    "scrolled": true
   },
   "outputs": [],
   "source": [
    "config = read_training_pipeline_params(\"train_config_pretrained_emb_transformer.yaml\")\n",
    "\n",
    "device = torch.device('cuda' if torch.cuda.is_available() else 'cpu')\n",
    "\n",
    "SRC, TRG, dataset = get_dataset(config.dataset_path, config.net_params.transformer)\n",
    "train_data, valid_data, test_data = split_data(dataset, **config.split_ration.__dict__)\n",
    "SRC.vocab = torch.load(\"small_transformer/src_vocab_transformer\")\n",
    "TRG.vocab = torch.load(\"small_transformer/trg_vocab_transformer\")\n",
    "train_iterator, valid_iterator, test_iterator = BucketIterator.splits(\n",
    "    (train_data, valid_data, test_data),\n",
    "    batch_size=config.BATCH_SIZE,\n",
    "    device=device,\n",
    "    sort_key=_len_sort_key\n",
    ")"
   ]
  },
  {
   "cell_type": "code",
   "execution_count": 11,
   "id": "7a366a19",
   "metadata": {
    "ExecuteTime": {
     "end_time": "2021-06-21T16:17:27.626064Z",
     "start_time": "2021-06-21T16:17:27.623134Z"
    }
   },
   "outputs": [],
   "source": [
    "INPUT_DIM = len(SRC.vocab)\n",
    "OUTPUT_DIM = len(TRG.vocab)"
   ]
  },
  {
   "cell_type": "code",
   "execution_count": 65,
   "id": "ec56c7b4",
   "metadata": {
    "ExecuteTime": {
     "end_time": "2021-06-21T16:35:05.454641Z",
     "start_time": "2021-06-21T16:35:05.448013Z"
    }
   },
   "outputs": [],
   "source": [
    "class Seq2Seq(nn.Module):\n",
    "    def __init__(self,\n",
    "                 encoder,\n",
    "                 decoder,\n",
    "                 src_pad_idx,\n",
    "                 trg_pad_idx,\n",
    "                 device):\n",
    "        super().__init__()\n",
    "\n",
    "        self.encoder = encoder\n",
    "        self.decoder = decoder\n",
    "        self.src_pad_idx = src_pad_idx\n",
    "        self.trg_pad_idx = trg_pad_idx\n",
    "        self.device = device\n",
    "\n",
    "    def make_src_mask(self, src):\n",
    "\n",
    "        src_mask = (src != self.src_pad_idx).unsqueeze(1).unsqueeze(2)\n",
    "\n",
    "        return src_mask\n",
    "\n",
    "    def make_trg_mask(self, trg):\n",
    "\n",
    "        trg_pad_mask = (trg != self.trg_pad_idx).unsqueeze(1).unsqueeze(2)\n",
    "\n",
    "        trg_len = trg.shape[1]\n",
    "\n",
    "        trg_sub_mask = torch.tril(torch.ones((trg_len, trg_len), device=self.device)).bool()\n",
    "\n",
    "        trg_mask = trg_pad_mask & trg_sub_mask\n",
    "\n",
    "        return trg_mask\n",
    "\n",
    "    def forward(self, src, trg):\n",
    "        src_mask = self.make_src_mask(src)\n",
    "        trg_mask = self.make_trg_mask(trg)\n",
    "        enc_src = self.encoder(src, src_mask)\n",
    "        output, attention = self.decoder(trg, enc_src, trg_mask, src_mask)\n",
    "        return output, attention\n",
    "\n",
    "    def translate(self, src, greedy=False, max_len=None, eps=1e-30, **flags):\n",
    "#         device = next(self.parameters()).device\n",
    "#         batch_size = inp.shape[0]\n",
    "#         bos = torch.tensor([self.out_voc.bos_ix] * batch_size, dtype=torch.long, device=device)\n",
    "#         mask = torch.ones(batch_size, dtype=torch.uint8, device=device)\n",
    "#         logits_seq = [torch.log(to_one_hot(bos, len(self.out_voc)) + eps)]\n",
    "#         out_seq = [bos]\n",
    "\n",
    "#         hid_state = self.encode(inp, **flags)\n",
    "        src_mask = self.make_src_mask(src)\n",
    "        enc_src = self.encoder(src, src_mask)\n",
    "        return enc_src\n",
    "#         while True:\n",
    "#             hid_state, logits = self.decode(hid_state, out_seq[-1], **flags)\n",
    "#             if greedy:\n",
    "#                 _, y_t = torch.max(logits, dim=-1)\n",
    "#             else:\n",
    "#                 probs = F.softmax(logits, dim=-1)\n",
    "#                 y_t = torch.multinomial(probs, 1)[:, 0]\n",
    "\n",
    "#             logits_seq.append(logits)\n",
    "#             out_seq.append(y_t)\n",
    "#             mask *= y_t != self.out_voc.eos_ix\n",
    "\n",
    "#             if not mask.any(): break\n",
    "#             if max_len and len(out_seq) >= max_len: break\n",
    "\n",
    "#         return torch.stack(out_seq, 1), F.log_softmax(torch.stack(logits_seq, 1), dim=-1)"
   ]
  },
  {
   "cell_type": "code",
   "execution_count": 66,
   "id": "2da9e634",
   "metadata": {
    "ExecuteTime": {
     "end_time": "2021-06-21T16:35:06.312833Z",
     "start_time": "2021-06-21T16:35:06.219528Z"
    }
   },
   "outputs": [],
   "source": [
    "Encoder = network_transformer.Encoder\n",
    "Decoder = network_transformer.Decoder\n",
    "# Seq2Seq = network_transformer.Seq2Seq\n",
    "SRC_PAD_IDX = SRC.vocab.stoi[SRC.pad_token]\n",
    "TRG_PAD_IDX = TRG.vocab.stoi[TRG.pad_token]\n",
    "HID_DIM = 256\n",
    "ENC_LAYERS = 3\n",
    "DEC_LAYERS = 3\n",
    "ENC_HEADS = 8\n",
    "DEC_HEADS = 8\n",
    "ENC_PF_DIM = 512\n",
    "DEC_PF_DIM = 512\n",
    "ENC_DROPOUT = 0.1\n",
    "DEC_DROPOUT = 0.1\n",
    "\n",
    "enc = Encoder(INPUT_DIM,\n",
    "              HID_DIM,\n",
    "              ENC_LAYERS,\n",
    "              ENC_HEADS,\n",
    "              ENC_PF_DIM,\n",
    "              ENC_DROPOUT,\n",
    "              device)\n",
    "\n",
    "dec = Decoder(OUTPUT_DIM,\n",
    "              HID_DIM,\n",
    "              DEC_LAYERS,\n",
    "              DEC_HEADS,\n",
    "              DEC_PF_DIM,\n",
    "              DEC_DROPOUT,\n",
    "              device)\n",
    "model = Seq2Seq(enc, dec, SRC_PAD_IDX, TRG_PAD_IDX, device)"
   ]
  },
  {
   "cell_type": "code",
   "execution_count": 67,
   "id": "7d99d35c",
   "metadata": {
    "ExecuteTime": {
     "end_time": "2021-06-21T16:35:06.939547Z",
     "start_time": "2021-06-21T16:35:06.777970Z"
    }
   },
   "outputs": [
    {
     "data": {
      "text/plain": [
       "<All keys matched successfully>"
      ]
     },
     "execution_count": 67,
     "metadata": {},
     "output_type": "execute_result"
    }
   ],
   "source": [
    "checkpoint = torch.load(\"models/transformer_model.pt\", map_location='cpu')\n",
    "model.load_state_dict(checkpoint, strict=True)"
   ]
  },
  {
   "cell_type": "code",
   "execution_count": 68,
   "id": "c5ded3b3",
   "metadata": {
    "ExecuteTime": {
     "end_time": "2021-06-21T16:35:08.145241Z",
     "start_time": "2021-06-21T16:35:07.315079Z"
    }
   },
   "outputs": [],
   "source": [
    "for batch in train_iterator:\n",
    "    check_batch = batch"
   ]
  },
  {
   "cell_type": "code",
   "execution_count": 69,
   "id": "1afc0448",
   "metadata": {
    "ExecuteTime": {
     "end_time": "2021-06-21T16:35:08.416459Z",
     "start_time": "2021-06-21T16:35:08.413253Z"
    }
   },
   "outputs": [],
   "source": [
    "src = check_batch.src.permute(1, 0)\n",
    "trg = check_batch.trg.permute(1, 0)"
   ]
  },
  {
   "cell_type": "code",
   "execution_count": 71,
   "id": "11f106ef",
   "metadata": {
    "ExecuteTime": {
     "end_time": "2021-06-21T16:35:23.654883Z",
     "start_time": "2021-06-21T16:35:23.282428Z"
    }
   },
   "outputs": [],
   "source": [
    "enc_src = model.translate(src)"
   ]
  },
  {
   "cell_type": "code",
   "execution_count": 72,
   "id": "f615ef42",
   "metadata": {
    "ExecuteTime": {
     "end_time": "2021-06-21T16:35:27.826560Z",
     "start_time": "2021-06-21T16:35:27.822568Z"
    }
   },
   "outputs": [
    {
     "data": {
      "text/plain": [
       "torch.Size([128, 49, 256])"
      ]
     },
     "execution_count": 72,
     "metadata": {},
     "output_type": "execute_result"
    }
   ],
   "source": [
    "enc_src.shape"
   ]
  },
  {
   "cell_type": "code",
   "execution_count": 73,
   "id": "19a462ab",
   "metadata": {
    "ExecuteTime": {
     "end_time": "2021-06-21T16:35:46.102737Z",
     "start_time": "2021-06-21T16:35:46.098450Z"
    }
   },
   "outputs": [
    {
     "data": {
      "text/plain": [
       "torch.Size([128, 49])"
      ]
     },
     "execution_count": 73,
     "metadata": {},
     "output_type": "execute_result"
    }
   ],
   "source": [
    "src.shape"
   ]
  },
  {
   "cell_type": "code",
   "execution_count": 75,
   "id": "d3e66112",
   "metadata": {
    "ExecuteTime": {
     "end_time": "2021-06-21T16:45:15.319018Z",
     "start_time": "2021-06-21T16:44:56.817091Z"
    }
   },
   "outputs": [],
   "source": [
    "o, _ = model(src, trg[:, :-1])"
   ]
  },
  {
   "cell_type": "code",
   "execution_count": 77,
   "id": "90c9ac82",
   "metadata": {
    "ExecuteTime": {
     "end_time": "2021-06-21T16:46:49.823932Z",
     "start_time": "2021-06-21T16:46:49.488179Z"
    }
   },
   "outputs": [
    {
     "data": {
      "text/plain": [
       "torch.Size([42, 6734])"
      ]
     },
     "execution_count": 77,
     "metadata": {},
     "output_type": "execute_result"
    }
   ],
   "source": [
    "o[0].shape"
   ]
  },
  {
   "cell_type": "code",
   "execution_count": 80,
   "id": "64970fb8",
   "metadata": {
    "ExecuteTime": {
     "end_time": "2021-06-21T16:48:55.737539Z",
     "start_time": "2021-06-21T16:48:55.728940Z"
    }
   },
   "outputs": [],
   "source": [
    "o = o.permute(1, 0, 2)"
   ]
  },
  {
   "cell_type": "code",
   "execution_count": 85,
   "id": "1c041d1d",
   "metadata": {
    "ExecuteTime": {
     "end_time": "2021-06-21T16:49:53.872980Z",
     "start_time": "2021-06-21T16:49:53.834230Z"
    }
   },
   "outputs": [
    {
     "data": {
      "text/plain": [
       "torch.Size([128, 42])"
      ]
     },
     "execution_count": 85,
     "metadata": {},
     "output_type": "execute_result"
    }
   ],
   "source": [
    "o.argmax(dim=-1).permute(1, 0).shape"
   ]
  },
  {
   "cell_type": "code",
   "execution_count": 91,
   "id": "cd0105ef",
   "metadata": {
    "ExecuteTime": {
     "end_time": "2021-06-21T16:52:49.816522Z",
     "start_time": "2021-06-21T16:52:49.782078Z"
    }
   },
   "outputs": [],
   "source": [
    "sample = o.argmax(dim=-1).permute(1, 0)"
   ]
  },
  {
   "cell_type": "code",
   "execution_count": 93,
   "id": "42d42070",
   "metadata": {
    "ExecuteTime": {
     "end_time": "2021-06-21T16:53:01.857964Z",
     "start_time": "2021-06-21T16:53:01.853757Z"
    }
   },
   "outputs": [
    {
     "data": {
      "text/plain": [
       "torch.Size([128, 42])"
      ]
     },
     "execution_count": 93,
     "metadata": {},
     "output_type": "execute_result"
    }
   ],
   "source": [
    "sample[:].shape"
   ]
  },
  {
   "cell_type": "code",
   "execution_count": 94,
   "id": "88cbbb06",
   "metadata": {
    "ExecuteTime": {
     "end_time": "2021-06-21T16:53:18.927347Z",
     "start_time": "2021-06-21T16:53:18.918512Z"
    }
   },
   "outputs": [],
   "source": [
    "sample1 = sample[0]"
   ]
  },
  {
   "cell_type": "code",
   "execution_count": 89,
   "id": "3c03200b",
   "metadata": {
    "ExecuteTime": {
     "end_time": "2021-06-21T16:51:16.837395Z",
     "start_time": "2021-06-21T16:51:16.833242Z"
    }
   },
   "outputs": [
    {
     "data": {
      "text/plain": [
       "tensor([   2,    0,  100,   48,    9,  526,   14,   20,    7, 5375,   88,   28,\n",
       "           9,  354,   97,  453,   43,   39,   20,    4,    3,    1,    1,    1,\n",
       "           1,    1,    1,    1,    1,    1,    1,    1,    1,    1,    1,    1,\n",
       "           1,    1,    1,    1,    1,    1,    1])"
      ]
     },
     "execution_count": 89,
     "metadata": {},
     "output_type": "execute_result"
    }
   ],
   "source": [
    "trg[0]"
   ]
  },
  {
   "cell_type": "code",
   "execution_count": 95,
   "id": "17f49735",
   "metadata": {
    "ExecuteTime": {
     "end_time": "2021-06-21T16:53:30.791066Z",
     "start_time": "2021-06-21T16:53:30.776865Z"
    }
   },
   "outputs": [
    {
     "data": {
      "text/plain": [
       "['the',\n",
       " 'city',\n",
       " 'centre',\n",
       " 'is',\n",
       " '17',\n",
       " 'km',\n",
       " 'away',\n",
       " 'and',\n",
       " 'bogotá',\n",
       " 'international',\n",
       " 'airport',\n",
       " 'is',\n",
       " 'about',\n",
       " '3',\n",
       " 'hours',\n",
       " '’',\n",
       " 'drive',\n",
       " 'away',\n",
       " '.']"
      ]
     },
     "execution_count": 95,
     "metadata": {},
     "output_type": "execute_result"
    }
   ],
   "source": [
    "get_text(sample1, TRG.vocab)"
   ]
  },
  {
   "cell_type": "markdown",
   "id": "b8cad455",
   "metadata": {},
   "source": [
    "## end"
   ]
  },
  {
   "cell_type": "code",
   "execution_count": null,
   "id": "5fa1a9c3",
   "metadata": {},
   "outputs": [],
   "source": []
  }
 ],
 "metadata": {
  "kernelspec": {
   "display_name": "Python 3",
   "language": "python",
   "name": "python3"
  },
  "language_info": {
   "codemirror_mode": {
    "name": "ipython",
    "version": 3
   },
   "file_extension": ".py",
   "mimetype": "text/x-python",
   "name": "python",
   "nbconvert_exporter": "python",
   "pygments_lexer": "ipython3",
   "version": "3.7.10"
  },
  "toc": {
   "base_numbering": 1,
   "nav_menu": {},
   "number_sections": true,
   "sideBar": true,
   "skip_h1_title": false,
   "title_cell": "Table of Contents",
   "title_sidebar": "Contents",
   "toc_cell": false,
   "toc_position": {},
   "toc_section_display": true,
   "toc_window_display": true
  },
  "varInspector": {
   "cols": {
    "lenName": 16,
    "lenType": 16,
    "lenVar": 40
   },
   "kernels_config": {
    "python": {
     "delete_cmd_postfix": "",
     "delete_cmd_prefix": "del ",
     "library": "var_list.py",
     "varRefreshCmd": "print(var_dic_list())"
    },
    "r": {
     "delete_cmd_postfix": ") ",
     "delete_cmd_prefix": "rm(",
     "library": "var_list.r",
     "varRefreshCmd": "cat(var_dic_list()) "
    }
   },
   "types_to_exclude": [
    "module",
    "function",
    "builtin_function_or_method",
    "instance",
    "_Feature"
   ],
   "window_display": false
  }
 },
 "nbformat": 4,
 "nbformat_minor": 5
}
