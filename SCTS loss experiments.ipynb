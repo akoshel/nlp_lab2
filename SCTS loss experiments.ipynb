{
 "cells": [
  {
   "cell_type": "markdown",
   "id": "d7294399",
   "metadata": {},
   "source": [
    "## Imports"
   ]
  },
  {
   "cell_type": "code",
   "execution_count": 88,
   "id": "d974d12e",
   "metadata": {
    "ExecuteTime": {
     "end_time": "2021-06-27T15:43:21.945048Z",
     "start_time": "2021-06-27T15:43:21.934128Z"
    }
   },
   "outputs": [],
   "source": [
    "import torch\n",
    "import torch.nn as nn\n",
    "import tqdm\n",
    "from nltk.translate.bleu_score import corpus_bleu\n",
    "from torchtext.legacy.data import BucketIterator\n",
    "from config import read_training_pipeline_params\n",
    "from load_data import get_dataset, split_data, _len_sort_key\n",
    "import my_network\n",
    "from train_model import evaluate\n",
    "from utils import generate_translation, get_text\n",
    "import random\n",
    "import numpy as np\n",
    "from helpers import get_bleu\n",
    "import torch.nn.functional as F\n",
    "from torch import optim\n",
    "from loguru import logger"
   ]
  },
  {
   "cell_type": "code",
   "execution_count": 57,
   "id": "807ebb1d",
   "metadata": {
    "ExecuteTime": {
     "end_time": "2021-06-27T15:16:57.718878Z",
     "start_time": "2021-06-27T15:16:57.716310Z"
    }
   },
   "outputs": [],
   "source": [
    "import network_transformer"
   ]
  },
  {
   "cell_type": "code",
   "execution_count": 58,
   "id": "3e058121",
   "metadata": {
    "ExecuteTime": {
     "end_time": "2021-06-27T15:16:57.901917Z",
     "start_time": "2021-06-27T15:16:57.898811Z"
    }
   },
   "outputs": [],
   "source": [
    "from nltk.translate.bleu_score import corpus_bleu"
   ]
  },
  {
   "cell_type": "markdown",
   "id": "0d3a72ea",
   "metadata": {
    "ExecuteTime": {
     "end_time": "2021-06-21T16:04:17.918579Z",
     "start_time": "2021-06-21T16:04:17.916003Z"
    }
   },
   "source": [
    "## load data"
   ]
  },
  {
   "cell_type": "code",
   "execution_count": 74,
   "id": "ae7d2ec3",
   "metadata": {
    "ExecuteTime": {
     "end_time": "2021-06-27T15:36:34.700405Z",
     "start_time": "2021-06-27T15:36:27.981485Z"
    },
    "scrolled": true
   },
   "outputs": [],
   "source": [
    "config = read_training_pipeline_params(\"train_config_pretrained_emb_transformer.yaml\")\n",
    "\n",
    "device = torch.device('cuda' if torch.cuda.is_available() else 'cpu')\n",
    "\n",
    "SRC, TRG, dataset = get_dataset(config.dataset_path, config.net_params.transformer)\n",
    "train_data, valid_data, test_data = split_data(dataset, **config.split_ration.__dict__)\n",
    "SRC.vocab = torch.load(\"small_transformer/src_vocab_transformer\")\n",
    "TRG.vocab = torch.load(\"small_transformer/trg_vocab_transformer\")\n",
    "train_iterator, valid_iterator, test_iterator = BucketIterator.splits(\n",
    "    (train_data, valid_data, test_data),\n",
    "    batch_size=64,\n",
    "    device=device,\n",
    "    sort_key=_len_sort_key\n",
    ")"
   ]
  },
  {
   "cell_type": "code",
   "execution_count": 75,
   "id": "c5ded3b3",
   "metadata": {
    "ExecuteTime": {
     "end_time": "2021-06-27T15:36:36.202754Z",
     "start_time": "2021-06-27T15:36:34.962074Z"
    }
   },
   "outputs": [],
   "source": [
    "for batch in train_iterator:\n",
    "    check_batch = batch"
   ]
  },
  {
   "cell_type": "code",
   "execution_count": 61,
   "id": "1afc0448",
   "metadata": {
    "ExecuteTime": {
     "end_time": "2021-06-27T15:17:05.113390Z",
     "start_time": "2021-06-27T15:17:05.109147Z"
    }
   },
   "outputs": [],
   "source": [
    "src = check_batch.src.permute(1, 0)\n",
    "trg = check_batch.trg.permute(1, 0)"
   ]
  },
  {
   "cell_type": "code",
   "execution_count": 76,
   "id": "7a366a19",
   "metadata": {
    "ExecuteTime": {
     "end_time": "2021-06-27T15:36:40.062835Z",
     "start_time": "2021-06-27T15:36:40.060204Z"
    }
   },
   "outputs": [],
   "source": [
    "INPUT_DIM = len(SRC.vocab)\n",
    "OUTPUT_DIM = len(TRG.vocab)"
   ]
  },
  {
   "cell_type": "code",
   "execution_count": 77,
   "id": "ec56c7b4",
   "metadata": {
    "ExecuteTime": {
     "end_time": "2021-06-27T15:36:40.415473Z",
     "start_time": "2021-06-27T15:36:40.404155Z"
    }
   },
   "outputs": [],
   "source": [
    "class Seq2Seq(nn.Module):\n",
    "    def __init__(self,\n",
    "                 encoder,\n",
    "                 decoder,\n",
    "                 src_pad_idx,\n",
    "                 trg_pad_idx,\n",
    "                 device):\n",
    "        super().__init__()\n",
    "\n",
    "        self.encoder = encoder\n",
    "        self.decoder = decoder\n",
    "        self.src_pad_idx = src_pad_idx\n",
    "        self.trg_pad_idx = trg_pad_idx\n",
    "        self.device = device\n",
    "\n",
    "    def make_src_mask(self, src):\n",
    "\n",
    "        src_mask = (src != self.src_pad_idx).unsqueeze(1).unsqueeze(2)\n",
    "\n",
    "        return src_mask\n",
    "\n",
    "    def make_trg_mask(self, trg):\n",
    "\n",
    "        trg_pad_mask = (trg != self.trg_pad_idx).unsqueeze(1).unsqueeze(2)\n",
    "\n",
    "        trg_len = trg.shape[1]\n",
    "\n",
    "        trg_sub_mask = torch.tril(torch.ones((trg_len, trg_len), device=self.device)).bool()\n",
    "\n",
    "        trg_mask = trg_pad_mask & trg_sub_mask\n",
    "\n",
    "        return trg_mask\n",
    "\n",
    "    def forward(self, src, trg):\n",
    "        src_mask = self.make_src_mask(src)\n",
    "        trg_mask = self.make_trg_mask(trg)\n",
    "        enc_src = self.encoder(src, src_mask)\n",
    "        output, attention = self.decoder(trg, enc_src, trg_mask, src_mask)\n",
    "        return output, attention\n",
    "\n",
    "    def translate(self, src, greedy=False, max_len=None, eps=1e-30, **flags):\n",
    "        src_mask = self.make_src_mask(src)\n",
    "        enc_src = self.encoder(src, src_mask)\n",
    "        trg_mask = self.make_trg_mask(trg)\n",
    "        logits, attention = self.decoder(trg, enc_src, trg_mask, src_mask)\n",
    "        if greedy:\n",
    "            output = logits.argmax(dim=-1)\n",
    "        else:\n",
    "            out_h = F.softmax(logits, dim=-1)\n",
    "            output = torch.LongTensor([torch.multinomial(t, 1)[:, 0].detach().numpy() for t in out_h])\n",
    "        return output, logits"
   ]
  },
  {
   "cell_type": "code",
   "execution_count": 78,
   "id": "2da9e634",
   "metadata": {
    "ExecuteTime": {
     "end_time": "2021-06-27T15:36:41.365979Z",
     "start_time": "2021-06-27T15:36:41.116298Z"
    }
   },
   "outputs": [],
   "source": [
    "Encoder = network_transformer.Encoder\n",
    "Decoder = network_transformer.Decoder\n",
    "# Seq2Seq = network_transformer.Seq2Seq\n",
    "SRC_PAD_IDX = SRC.vocab.stoi[SRC.pad_token]\n",
    "TRG_PAD_IDX = TRG.vocab.stoi[TRG.pad_token]\n",
    "HID_DIM = 256\n",
    "ENC_LAYERS = 3\n",
    "DEC_LAYERS = 3\n",
    "ENC_HEADS = 8\n",
    "DEC_HEADS = 8\n",
    "ENC_PF_DIM = 512\n",
    "DEC_PF_DIM = 512\n",
    "ENC_DROPOUT = 0.1\n",
    "DEC_DROPOUT = 0.1\n",
    "\n",
    "enc = Encoder(INPUT_DIM,\n",
    "              HID_DIM,\n",
    "              ENC_LAYERS,\n",
    "              ENC_HEADS,\n",
    "              ENC_PF_DIM,\n",
    "              ENC_DROPOUT,\n",
    "              device)\n",
    "\n",
    "dec = Decoder(OUTPUT_DIM,\n",
    "              HID_DIM,\n",
    "              DEC_LAYERS,\n",
    "              DEC_HEADS,\n",
    "              DEC_PF_DIM,\n",
    "              DEC_DROPOUT,\n",
    "              device)\n",
    "model = Seq2Seq(enc, dec, SRC_PAD_IDX, TRG_PAD_IDX, device)"
   ]
  },
  {
   "cell_type": "code",
   "execution_count": 79,
   "id": "7d99d35c",
   "metadata": {
    "ExecuteTime": {
     "end_time": "2021-06-27T15:36:43.279205Z",
     "start_time": "2021-06-27T15:36:42.741865Z"
    }
   },
   "outputs": [
    {
     "data": {
      "text/plain": [
       "<All keys matched successfully>"
      ]
     },
     "execution_count": 79,
     "metadata": {},
     "output_type": "execute_result"
    }
   ],
   "source": [
    "checkpoint = torch.load(\"models/transformer_model.pt\", map_location='cpu')\n",
    "model.load_state_dict(checkpoint, strict=True)"
   ]
  },
  {
   "cell_type": "code",
   "execution_count": 80,
   "id": "11f106ef",
   "metadata": {
    "ExecuteTime": {
     "end_time": "2021-06-27T15:36:44.955987Z",
     "start_time": "2021-06-27T15:36:43.973192Z"
    }
   },
   "outputs": [],
   "source": [
    "translate, _ = model.translate(src, greedy=True)"
   ]
  },
  {
   "cell_type": "code",
   "execution_count": 81,
   "id": "aac39855",
   "metadata": {
    "ExecuteTime": {
     "end_time": "2021-06-27T15:36:52.364379Z",
     "start_time": "2021-06-27T15:36:46.059129Z"
    }
   },
   "outputs": [],
   "source": [
    "translate_n, logits = model.translate(src, greedy=False)"
   ]
  },
  {
   "cell_type": "code",
   "execution_count": 82,
   "id": "812ee046",
   "metadata": {
    "ExecuteTime": {
     "end_time": "2021-06-27T15:36:52.668418Z",
     "start_time": "2021-06-27T15:36:52.660521Z"
    }
   },
   "outputs": [],
   "source": [
    "def to_one_hot(y, n_dims=None):\n",
    "    \"\"\" Take integer y (tensor or variable) with n dims and convert it to 1-hot representation with n+1 dims. \"\"\"\n",
    "    y_tensor = y.data\n",
    "    y_tensor = y_tensor.to(dtype=torch.long).view(-1, 1)\n",
    "    n_dims = n_dims if n_dims is not None else int(torch.max(y_tensor)) + 1\n",
    "    y_one_hot = torch.zeros(y_tensor.size()[0], n_dims, device=y.device).scatter_(1, y_tensor, 1)\n",
    "    y_one_hot = y_one_hot.view(*y.shape, -1)\n",
    "    return y_one_hot"
   ]
  },
  {
   "cell_type": "code",
   "execution_count": 83,
   "id": "bbc0b10d",
   "metadata": {
    "ExecuteTime": {
     "end_time": "2021-06-27T15:36:52.964344Z",
     "start_time": "2021-06-27T15:36:52.940450Z"
    }
   },
   "outputs": [],
   "source": [
    "def scst_objective_on_batch(src, trg):\n",
    "    translate, _ = model.translate(src, greedy=True)\n",
    "    translate_n, logits = model.translate(src, greedy=False)\n",
    "    baseline = []\n",
    "    reward = []\n",
    "    mask = []\n",
    "    i=0\n",
    "    for g, n, t in zip(translate, translate_n, trg):\n",
    "        g_list = g.tolist()\n",
    "        n_list = n.tolist()\n",
    "        t_list = t.tolist()\n",
    "        if 3 in g_list:\n",
    "            g_ind = g_list.index(3)\n",
    "        else:\n",
    "            g_ind = len(g_list)\n",
    "        if 3 in n_list:\n",
    "            n_ind = n_list.index(3)\n",
    "        else:\n",
    "            n_ind = len(n_list)\n",
    "        if 1 in t_list:\n",
    "            t_ind = t_list.index(1)\n",
    "        else:\n",
    "            t_ind = len(t_list)\n",
    "    #     greedy_tokens.append([tok for tok in g_list[: g_ind] if tok not in [3, 1, 2, 0]])\n",
    "    #     not_greedy_tokens.append([tok for tok in n_list[: n_ind] if tok not in [3, 1, 2, 0]])\n",
    "    #     target_tokens.append([tok for tok in t_list[: t_ind] if tok not in [3, 1, 2, 0]])\n",
    "        mask.append([True] *n_ind + [False] * (g.shape[0] - n_ind))\n",
    "        greed_txt = [tok for tok in g_list[: g_ind] if tok not in [3, 1, 2, 0]]\n",
    "        not_greed_txt = [tok for tok in n_list[: n_ind] if tok not in [3, 1, 2, 0]]\n",
    "        trg_txt = [tok for tok in t_list[: t_ind] if tok not in [3, 1, 2, 0]]\n",
    "        baseline.append(corpus_bleu([[trg_txt]], [greed_txt]))\n",
    "        reward.append(corpus_bleu([[trg_txt]], [not_greed_txt]))\n",
    "    advantage = (torch.FloatTensor(reward) - torch.FloatTensor(baseline)).to(device)\n",
    "    logp_sample = torch.sum(to_one_hot(translate_n, n_dims=OUTPUT_DIM) * logits, dim=-1)\n",
    "    J = logp_sample * torch.FloatTensor(advantage)[:, None]\n",
    "    mask_t = torch.Tensor(mask)\n",
    "    loss = torch.sum(J * mask_t) / torch.sum(mask_t)\n",
    "    entropy = -torch.sum(torch.exp(logits) * logits, dim=-1)\n",
    "    reg = - 1e-10 * torch.sum(entropy * mask_t) / torch.sum(mask_t)\n",
    "    return loss + reg, torch.sum(entropy * mask_t) / torch.sum(mask_t)"
   ]
  },
  {
   "cell_type": "code",
   "execution_count": 84,
   "id": "ff44c97e",
   "metadata": {
    "ExecuteTime": {
     "end_time": "2021-06-27T15:37:03.294327Z",
     "start_time": "2021-06-27T15:36:53.251709Z"
    }
   },
   "outputs": [],
   "source": [
    "l,e = scst_objective_on_batch(src, trg)"
   ]
  },
  {
   "cell_type": "code",
   "execution_count": 85,
   "id": "f82f4f80",
   "metadata": {
    "ExecuteTime": {
     "end_time": "2021-06-27T15:37:03.663106Z",
     "start_time": "2021-06-27T15:37:03.655663Z"
    }
   },
   "outputs": [],
   "source": [
    "optimizer = optim.Adam(model.parameters(), config.lr)"
   ]
  },
  {
   "cell_type": "code",
   "execution_count": 86,
   "id": "ecc06401",
   "metadata": {
    "ExecuteTime": {
     "end_time": "2021-06-27T15:37:04.033577Z",
     "start_time": "2021-06-27T15:37:04.025628Z"
    }
   },
   "outputs": [],
   "source": [
    "def train(model, iterator, optimizer):\n",
    "    print(\"here1\")\n",
    "    model.train()\n",
    "    epoch_loss = 0\n",
    "    for i, batch in enumerate(iterator):\n",
    "\n",
    "        src = batch.src.permute(1, 0)\n",
    "        trg = batch.trg.permute(1, 0)\n",
    "\n",
    "        optimizer.zero_grad()\n",
    "\n",
    "#         output, _ = model(src, trg[:, :-1])\n",
    "\n",
    "        # output = [batch size, trg len - 1, output dim]\n",
    "        # trg = [batch size, trg len]\n",
    "\n",
    "#         output_dim = output.shape[-1]\n",
    "\n",
    "#         output = output.contiguous().view(-1, output_dim)\n",
    "#         trg = trg[:, 1:].contiguous().view(-1)\n",
    "        loss, entropy = scst_objective_on_batch(src, trg)\n",
    "        # output = [batch size * trg len - 1, output dim]\n",
    "        # trg = [batch size * trg len - 1]\n",
    "\n",
    "#         loss = criterion(output, trg)\n",
    "\n",
    "        loss.backward()\n",
    "        logger.info(loss)\n",
    "#         torch.nn.utils.clip_grad_norm_(model.parameters(), clip)\n",
    "\n",
    "        optimizer.step()\n",
    "\n",
    "        epoch_loss += loss.item()\n",
    "\n",
    "    return epoch_loss / len(iterator)"
   ]
  },
  {
   "cell_type": "code",
   "execution_count": 87,
   "id": "355f6521",
   "metadata": {
    "ExecuteTime": {
     "end_time": "2021-06-27T15:42:34.139742Z",
     "start_time": "2021-06-27T15:37:07.361048Z"
    }
   },
   "outputs": [
    {
     "name": "stdout",
     "output_type": "stream",
     "text": [
      "here1\n",
      "tensor(-0.0024, grad_fn=<AddBackward0>)\n",
      "tensor(-0.0532, grad_fn=<AddBackward0>)\n",
      "tensor(0.0284, grad_fn=<AddBackward0>)\n",
      "tensor(0.0308, grad_fn=<AddBackward0>)\n",
      "tensor(-0.0125, grad_fn=<AddBackward0>)\n",
      "tensor(0.0074, grad_fn=<AddBackward0>)\n",
      "tensor(0.0310, grad_fn=<AddBackward0>)\n",
      "tensor(-0.0185, grad_fn=<AddBackward0>)\n",
      "tensor(0.0269, grad_fn=<AddBackward0>)\n",
      "tensor(-0.0093, grad_fn=<AddBackward0>)\n",
      "tensor(0.0122, grad_fn=<AddBackward0>)\n",
      "tensor(-0.0458, grad_fn=<AddBackward0>)\n",
      "tensor(-0.0751, grad_fn=<AddBackward0>)\n",
      "tensor(-0.0282, grad_fn=<AddBackward0>)\n",
      "tensor(-0.0495, grad_fn=<AddBackward0>)\n",
      "tensor(-0.0734, grad_fn=<AddBackward0>)\n",
      "tensor(0.0303, grad_fn=<AddBackward0>)\n",
      "tensor(-0.0085, grad_fn=<AddBackward0>)\n",
      "tensor(0.0026, grad_fn=<AddBackward0>)\n",
      "tensor(0.0039, grad_fn=<AddBackward0>)\n",
      "tensor(-0.0457, grad_fn=<AddBackward0>)\n",
      "tensor(0.0263, grad_fn=<AddBackward0>)\n",
      "tensor(-0.0745, grad_fn=<AddBackward0>)\n",
      "tensor(0.0017, grad_fn=<AddBackward0>)\n",
      "tensor(-0.0584, grad_fn=<AddBackward0>)\n",
      "tensor(-0.0250, grad_fn=<AddBackward0>)\n",
      "tensor(-0.1410, grad_fn=<AddBackward0>)\n",
      "tensor(-0.0123, grad_fn=<AddBackward0>)\n",
      "tensor(-0.0241, grad_fn=<AddBackward0>)\n",
      "tensor(0.0077, grad_fn=<AddBackward0>)\n",
      "tensor(-0.0525, grad_fn=<AddBackward0>)\n",
      "tensor(-0.0148, grad_fn=<AddBackward0>)\n",
      "tensor(-0.0145, grad_fn=<AddBackward0>)\n",
      "tensor(0.0021, grad_fn=<AddBackward0>)\n",
      "tensor(0.0043, grad_fn=<AddBackward0>)\n",
      "tensor(-0.0465, grad_fn=<AddBackward0>)\n",
      "tensor(-0.0181, grad_fn=<AddBackward0>)\n",
      "tensor(-0.0419, grad_fn=<AddBackward0>)\n",
      "tensor(0.0019, grad_fn=<AddBackward0>)\n",
      "tensor(-0.0444, grad_fn=<AddBackward0>)\n",
      "tensor(-0.0301, grad_fn=<AddBackward0>)\n",
      "tensor(-0.1645, grad_fn=<AddBackward0>)\n",
      "tensor(-0.0578, grad_fn=<AddBackward0>)\n",
      "tensor(-0.0222, grad_fn=<AddBackward0>)\n",
      "tensor(0.0017, grad_fn=<AddBackward0>)\n",
      "tensor(-0.0132, grad_fn=<AddBackward0>)\n",
      "tensor(-0.0057, grad_fn=<AddBackward0>)\n",
      "tensor(-0.0601, grad_fn=<AddBackward0>)\n",
      "tensor(-0.0213, grad_fn=<AddBackward0>)\n",
      "tensor(0.0016, grad_fn=<AddBackward0>)\n",
      "tensor(0.0019, grad_fn=<AddBackward0>)\n",
      "tensor(0.0024, grad_fn=<AddBackward0>)\n",
      "tensor(0.0015, grad_fn=<AddBackward0>)\n",
      "tensor(-0.0199, grad_fn=<AddBackward0>)\n",
      "tensor(-0.0016, grad_fn=<AddBackward0>)\n",
      "tensor(-0.0177, grad_fn=<AddBackward0>)\n",
      "tensor(0.0044, grad_fn=<AddBackward0>)\n",
      "tensor(-0.0156, grad_fn=<AddBackward0>)\n",
      "tensor(-0.0208, grad_fn=<AddBackward0>)\n",
      "tensor(-0.0060, grad_fn=<AddBackward0>)\n",
      "tensor(-0.0181, grad_fn=<AddBackward0>)\n",
      "tensor(0.0506, grad_fn=<AddBackward0>)\n",
      "tensor(-0.0359, grad_fn=<AddBackward0>)\n",
      "tensor(-0.0008, grad_fn=<AddBackward0>)\n",
      "tensor(0.0027, grad_fn=<AddBackward0>)\n",
      "tensor(-0.0504, grad_fn=<AddBackward0>)\n",
      "tensor(0.0016, grad_fn=<AddBackward0>)\n",
      "tensor(-0.0163, grad_fn=<AddBackward0>)\n",
      "tensor(-0.0362, grad_fn=<AddBackward0>)\n",
      "tensor(-0.0177, grad_fn=<AddBackward0>)\n",
      "tensor(-0.0208, grad_fn=<AddBackward0>)\n",
      "tensor(-0.0230, grad_fn=<AddBackward0>)\n",
      "tensor(-0.0124, grad_fn=<AddBackward0>)\n",
      "tensor(0.0118, grad_fn=<AddBackward0>)\n",
      "tensor(0.0013, grad_fn=<AddBackward0>)\n",
      "tensor(-0.0252, grad_fn=<AddBackward0>)\n",
      "tensor(0.0524, grad_fn=<AddBackward0>)\n",
      "tensor(-0.0608, grad_fn=<AddBackward0>)\n",
      "tensor(-0.0786, grad_fn=<AddBackward0>)\n"
     ]
    },
    {
     "ename": "KeyboardInterrupt",
     "evalue": "",
     "output_type": "error",
     "traceback": [
      "\u001b[0;31m---------------------------------------------------------------------------\u001b[0m",
      "\u001b[0;31mKeyboardInterrupt\u001b[0m                         Traceback (most recent call last)",
      "\u001b[0;32m<ipython-input-87-8028131a442a>\u001b[0m in \u001b[0;36m<module>\u001b[0;34m\u001b[0m\n\u001b[0;32m----> 1\u001b[0;31m \u001b[0mtrain\u001b[0m\u001b[0;34m(\u001b[0m\u001b[0mmodel\u001b[0m\u001b[0;34m,\u001b[0m \u001b[0mtrain_iterator\u001b[0m\u001b[0;34m,\u001b[0m \u001b[0moptimizer\u001b[0m\u001b[0;34m)\u001b[0m\u001b[0;34m\u001b[0m\u001b[0;34m\u001b[0m\u001b[0m\n\u001b[0m",
      "\u001b[0;32m<ipython-input-86-2253a1fd2e35>\u001b[0m in \u001b[0;36mtrain\u001b[0;34m(model, iterator, optimizer)\u001b[0m\n\u001b[1;32m     25\u001b[0m \u001b[0;31m#         loss = criterion(output, trg)\u001b[0m\u001b[0;34m\u001b[0m\u001b[0;34m\u001b[0m\u001b[0;34m\u001b[0m\u001b[0m\n\u001b[1;32m     26\u001b[0m \u001b[0;34m\u001b[0m\u001b[0m\n\u001b[0;32m---> 27\u001b[0;31m         \u001b[0mloss\u001b[0m\u001b[0;34m.\u001b[0m\u001b[0mbackward\u001b[0m\u001b[0;34m(\u001b[0m\u001b[0;34m)\u001b[0m\u001b[0;34m\u001b[0m\u001b[0;34m\u001b[0m\u001b[0m\n\u001b[0m\u001b[1;32m     28\u001b[0m         \u001b[0mprint\u001b[0m\u001b[0;34m(\u001b[0m\u001b[0mloss\u001b[0m\u001b[0;34m)\u001b[0m\u001b[0;34m\u001b[0m\u001b[0;34m\u001b[0m\u001b[0m\n\u001b[1;32m     29\u001b[0m \u001b[0;31m#         torch.nn.utils.clip_grad_norm_(model.parameters(), clip)\u001b[0m\u001b[0;34m\u001b[0m\u001b[0;34m\u001b[0m\u001b[0;34m\u001b[0m\u001b[0m\n",
      "\u001b[0;32m~/miniconda3/envs/edu/lib/python3.7/site-packages/torch/tensor.py\u001b[0m in \u001b[0;36mbackward\u001b[0;34m(self, gradient, retain_graph, create_graph, inputs)\u001b[0m\n\u001b[1;32m    243\u001b[0m                 \u001b[0mcreate_graph\u001b[0m\u001b[0;34m=\u001b[0m\u001b[0mcreate_graph\u001b[0m\u001b[0;34m,\u001b[0m\u001b[0;34m\u001b[0m\u001b[0;34m\u001b[0m\u001b[0m\n\u001b[1;32m    244\u001b[0m                 inputs=inputs)\n\u001b[0;32m--> 245\u001b[0;31m         \u001b[0mtorch\u001b[0m\u001b[0;34m.\u001b[0m\u001b[0mautograd\u001b[0m\u001b[0;34m.\u001b[0m\u001b[0mbackward\u001b[0m\u001b[0;34m(\u001b[0m\u001b[0mself\u001b[0m\u001b[0;34m,\u001b[0m \u001b[0mgradient\u001b[0m\u001b[0;34m,\u001b[0m \u001b[0mretain_graph\u001b[0m\u001b[0;34m,\u001b[0m \u001b[0mcreate_graph\u001b[0m\u001b[0;34m,\u001b[0m \u001b[0minputs\u001b[0m\u001b[0;34m=\u001b[0m\u001b[0minputs\u001b[0m\u001b[0;34m)\u001b[0m\u001b[0;34m\u001b[0m\u001b[0;34m\u001b[0m\u001b[0m\n\u001b[0m\u001b[1;32m    246\u001b[0m \u001b[0;34m\u001b[0m\u001b[0m\n\u001b[1;32m    247\u001b[0m     \u001b[0;32mdef\u001b[0m \u001b[0mregister_hook\u001b[0m\u001b[0;34m(\u001b[0m\u001b[0mself\u001b[0m\u001b[0;34m,\u001b[0m \u001b[0mhook\u001b[0m\u001b[0;34m)\u001b[0m\u001b[0;34m:\u001b[0m\u001b[0;34m\u001b[0m\u001b[0;34m\u001b[0m\u001b[0m\n",
      "\u001b[0;32m~/miniconda3/envs/edu/lib/python3.7/site-packages/torch/autograd/__init__.py\u001b[0m in \u001b[0;36mbackward\u001b[0;34m(tensors, grad_tensors, retain_graph, create_graph, grad_variables, inputs)\u001b[0m\n\u001b[1;32m    145\u001b[0m     Variable._execution_engine.run_backward(\n\u001b[1;32m    146\u001b[0m         \u001b[0mtensors\u001b[0m\u001b[0;34m,\u001b[0m \u001b[0mgrad_tensors_\u001b[0m\u001b[0;34m,\u001b[0m \u001b[0mretain_graph\u001b[0m\u001b[0;34m,\u001b[0m \u001b[0mcreate_graph\u001b[0m\u001b[0;34m,\u001b[0m \u001b[0minputs\u001b[0m\u001b[0;34m,\u001b[0m\u001b[0;34m\u001b[0m\u001b[0;34m\u001b[0m\u001b[0m\n\u001b[0;32m--> 147\u001b[0;31m         allow_unreachable=True, accumulate_grad=True)  # allow_unreachable flag\n\u001b[0m\u001b[1;32m    148\u001b[0m \u001b[0;34m\u001b[0m\u001b[0m\n\u001b[1;32m    149\u001b[0m \u001b[0;34m\u001b[0m\u001b[0m\n",
      "\u001b[0;31mKeyboardInterrupt\u001b[0m: "
     ]
    }
   ],
   "source": [
    "train(model, train_iterator, optimizer)"
   ]
  },
  {
   "cell_type": "code",
   "execution_count": 78,
   "id": "cce4a7aa",
   "metadata": {
    "ExecuteTime": {
     "end_time": "2021-06-27T10:35:53.794462Z",
     "start_time": "2021-06-27T10:35:53.792351Z"
    }
   },
   "outputs": [],
   "source": [
    "# baseline = corpus_bleu([[text] for text in target_tokens], greedy_tokens)\n",
    "# rewards = corpus_bleu([[text] for text in target_tokens], not_greedy_tokens)"
   ]
  },
  {
   "cell_type": "code",
   "execution_count": 103,
   "id": "333f5068",
   "metadata": {
    "ExecuteTime": {
     "end_time": "2021-06-27T11:43:44.685510Z",
     "start_time": "2021-06-27T11:43:44.680669Z"
    }
   },
   "outputs": [],
   "source": [
    "advantage = (torch.FloatTensor(rewards) - torch.FloatTensor(baseline)).to(device)"
   ]
  },
  {
   "cell_type": "code",
   "execution_count": 104,
   "id": "d1dc4376",
   "metadata": {
    "ExecuteTime": {
     "end_time": "2021-06-27T11:43:45.764832Z",
     "start_time": "2021-06-27T11:43:45.760621Z"
    }
   },
   "outputs": [
    {
     "data": {
      "text/plain": [
       "tensor([ 0.0000,  0.1897, -0.1767, -0.0450])"
      ]
     },
     "execution_count": 104,
     "metadata": {},
     "output_type": "execute_result"
    }
   ],
   "source": [
    "advantage"
   ]
  },
  {
   "cell_type": "code",
   "execution_count": 86,
   "id": "0a7e5e6f",
   "metadata": {
    "ExecuteTime": {
     "end_time": "2021-06-27T10:36:54.900812Z",
     "start_time": "2021-06-27T10:36:54.896364Z"
    }
   },
   "outputs": [
    {
     "data": {
      "text/plain": [
       "(22, torch.Size([4, 22]))"
      ]
     },
     "execution_count": 86,
     "metadata": {},
     "output_type": "execute_result"
    }
   ],
   "source": [
    "len(mask[0]), trg.shape"
   ]
  },
  {
   "cell_type": "code",
   "execution_count": 69,
   "id": "c8191cc3",
   "metadata": {
    "ExecuteTime": {
     "end_time": "2021-06-27T10:00:27.789037Z",
     "start_time": "2021-06-27T10:00:27.776131Z"
    }
   },
   "outputs": [],
   "source": [
    "logp_sample = torch.sum(to_one_hot(translate_n, n_dims=OUTPUT_DIM) * logits, dim=-1)"
   ]
  },
  {
   "cell_type": "code",
   "execution_count": 72,
   "id": "aa58a0b7",
   "metadata": {
    "ExecuteTime": {
     "end_time": "2021-06-27T10:01:33.968990Z",
     "start_time": "2021-06-27T10:01:33.965012Z"
    }
   },
   "outputs": [],
   "source": [
    "J = logp_sample * torch.FloatTensor(advantage)[:, None]"
   ]
  },
  {
   "cell_type": "code",
   "execution_count": 73,
   "id": "ab9a8911",
   "metadata": {
    "ExecuteTime": {
     "end_time": "2021-06-27T10:01:37.322716Z",
     "start_time": "2021-06-27T10:01:37.318970Z"
    }
   },
   "outputs": [
    {
     "data": {
      "text/plain": [
       "torch.Size([4, 22])"
      ]
     },
     "execution_count": 73,
     "metadata": {},
     "output_type": "execute_result"
    }
   ],
   "source": [
    "J.shape"
   ]
  },
  {
   "cell_type": "code",
   "execution_count": 87,
   "id": "9be5d831",
   "metadata": {
    "ExecuteTime": {
     "end_time": "2021-06-27T11:10:13.545294Z",
     "start_time": "2021-06-27T11:10:13.533157Z"
    }
   },
   "outputs": [],
   "source": [
    "mask_t = torch.Tensor(mask)"
   ]
  },
  {
   "cell_type": "code",
   "execution_count": 90,
   "id": "33bb39c6",
   "metadata": {
    "ExecuteTime": {
     "end_time": "2021-06-27T11:10:56.683436Z",
     "start_time": "2021-06-27T11:10:56.672064Z"
    }
   },
   "outputs": [
    {
     "data": {
      "text/plain": [
       "tensor(-0.5534, grad_fn=<DivBackward0>)"
      ]
     },
     "execution_count": 90,
     "metadata": {},
     "output_type": "execute_result"
    }
   ],
   "source": [
    "torch.sum(J * mask_t) / torch.sum(mask_t)"
   ]
  },
  {
   "cell_type": "code",
   "execution_count": 96,
   "id": "57812d64",
   "metadata": {
    "ExecuteTime": {
     "end_time": "2021-06-27T11:18:46.166272Z",
     "start_time": "2021-06-27T11:18:46.139952Z"
    }
   },
   "outputs": [],
   "source": [
    "entropy = -torch.sum(torch.exp(logits) * logits, dim=-1)"
   ]
  },
  {
   "cell_type": "code",
   "execution_count": 97,
   "id": "810c691c",
   "metadata": {
    "ExecuteTime": {
     "end_time": "2021-06-27T11:18:46.588177Z",
     "start_time": "2021-06-27T11:18:46.583100Z"
    }
   },
   "outputs": [
    {
     "data": {
      "text/plain": [
       "tensor([[-6.0753e+07, -8.1388e+08, -1.2782e+09, -1.0742e+09, -5.7912e+08,\n",
       "         -1.9203e+10, -1.5264e+09, -1.2574e+10, -5.1099e+10, -1.0268e+09,\n",
       "         -3.8313e+08, -4.4544e+09, -1.4655e+06, -1.4429e+06, -1.7198e+06,\n",
       "         -9.4949e+05, -1.0066e+06, -2.4669e+06, -1.0126e+06, -1.7618e+06,\n",
       "         -1.3701e+06, -1.3021e+06],\n",
       "        [-9.6211e+06, -1.0642e+09, -1.0032e+09, -8.5795e+08, -5.3567e+07,\n",
       "         -3.1642e+07, -3.1013e+07, -5.0274e+07, -8.1468e+07, -2.4153e+07,\n",
       "         -5.5048e+07, -6.9020e+04, -5.2866e+05, -1.9378e+05, -6.4577e+05,\n",
       "         -2.4502e+05, -5.5868e+05, -2.1592e+05, -2.4842e+05, -3.1824e+05,\n",
       "         -2.5404e+05, -3.8890e+05],\n",
       "        [-1.3160e+08, -5.0753e+08, -1.3021e+10, -7.3488e+07, -3.1621e+08,\n",
       "         -9.1614e+08, -2.5509e+09, -3.5756e+09, -1.8619e+08, -4.5795e+07,\n",
       "         -1.4923e+09, -3.8585e+09, -3.1395e+08, -2.8090e+08, -1.7708e+08,\n",
       "         -5.5537e+07, -9.0597e+09, -4.3076e+06, -3.0087e+06, -3.3406e+06,\n",
       "         -1.7003e+06, -8.2921e+06],\n",
       "        [-9.4256e+06, -3.0842e+09, -2.7640e+10, -5.1606e+10, -5.8934e+08,\n",
       "         -1.5021e+09, -4.0814e+08, -3.6472e+08, -5.3742e+08, -9.0426e+08,\n",
       "         -1.6676e+07, -9.0025e+07, -2.3551e+07, -8.2667e+06, -5.9906e+07,\n",
       "         -6.4810e+07, -3.3374e+06, -9.3565e+07, -1.7085e+08, -1.2130e+08,\n",
       "         -1.1941e+09, -1.5599e+06]], grad_fn=<NegBackward>)"
      ]
     },
     "execution_count": 97,
     "metadata": {},
     "output_type": "execute_result"
    }
   ],
   "source": [
    "entropy"
   ]
  },
  {
   "cell_type": "code",
   "execution_count": 98,
   "id": "87ea369a",
   "metadata": {
    "ExecuteTime": {
     "end_time": "2021-06-27T11:18:48.638454Z",
     "start_time": "2021-06-27T11:18:48.635286Z"
    }
   },
   "outputs": [],
   "source": [
    "reg = - 0.01 * torch.sum(entropy * mask_t) / torch.sum(mask_t)"
   ]
  },
  {
   "cell_type": "code",
   "execution_count": 99,
   "id": "5f4684e8",
   "metadata": {
    "ExecuteTime": {
     "end_time": "2021-06-27T11:18:52.267194Z",
     "start_time": "2021-06-27T11:18:52.262994Z"
    }
   },
   "outputs": [
    {
     "data": {
      "text/plain": [
       "tensor(36425564., grad_fn=<DivBackward0>)"
      ]
     },
     "execution_count": 99,
     "metadata": {},
     "output_type": "execute_result"
    }
   ],
   "source": [
    "reg"
   ]
  },
  {
   "cell_type": "code",
   "execution_count": 48,
   "id": "fe94aba9",
   "metadata": {
    "ExecuteTime": {
     "end_time": "2021-06-27T08:54:02.979691Z",
     "start_time": "2021-06-27T08:54:02.974496Z"
    }
   },
   "outputs": [
    {
     "data": {
      "text/plain": [
       "(torch.Size([4, 22, 6734]), torch.Size([4, 22, 6734]))"
      ]
     },
     "execution_count": 48,
     "metadata": {},
     "output_type": "execute_result"
    }
   ],
   "source": [
    "logits.shape, to_one_hot(translate_n, n_dims=OUTPUT_DIM).shape"
   ]
  },
  {
   "cell_type": "code",
   "execution_count": null,
   "id": "cd82e45f",
   "metadata": {},
   "outputs": [],
   "source": []
  },
  {
   "cell_type": "markdown",
   "id": "5d091b62",
   "metadata": {},
   "source": [
    "## end"
   ]
  },
  {
   "cell_type": "code",
   "execution_count": null,
   "id": "983a6cce",
   "metadata": {},
   "outputs": [],
   "source": []
  },
  {
   "cell_type": "code",
   "execution_count": 16,
   "id": "861a1795",
   "metadata": {
    "ExecuteTime": {
     "end_time": "2021-06-27T08:15:11.646791Z",
     "start_time": "2021-06-27T08:15:11.640853Z"
    }
   },
   "outputs": [
    {
     "data": {
      "text/plain": [
       "0.161692143534558"
      ]
     },
     "execution_count": 16,
     "metadata": {},
     "output_type": "execute_result"
    }
   ],
   "source": [
    "corpus_bleu([[translate[1].tolist()]], [trg[1].tolist()])"
   ]
  },
  {
   "cell_type": "code",
   "execution_count": 17,
   "id": "2f81a028",
   "metadata": {
    "ExecuteTime": {
     "end_time": "2021-06-27T08:15:12.300539Z",
     "start_time": "2021-06-27T08:15:12.295538Z"
    }
   },
   "outputs": [],
   "source": [
    "texts_greedy = [get_text(sentence, TRG.vocab) for sentence in translate]"
   ]
  },
  {
   "cell_type": "code",
   "execution_count": 18,
   "id": "69d49c2f",
   "metadata": {
    "ExecuteTime": {
     "end_time": "2021-06-27T08:15:14.650190Z",
     "start_time": "2021-06-27T08:15:14.646654Z"
    }
   },
   "outputs": [],
   "source": [
    "texts_not_greedy = [get_text(sentence, TRG.vocab) for sentence in translate_n]"
   ]
  },
  {
   "cell_type": "code",
   "execution_count": 19,
   "id": "9b3c89b2",
   "metadata": {
    "ExecuteTime": {
     "end_time": "2021-06-27T08:15:15.282174Z",
     "start_time": "2021-06-27T08:15:15.278889Z"
    }
   },
   "outputs": [],
   "source": [
    "texts_original = [get_text(sentence, TRG.vocab) for sentence in trg]"
   ]
  },
  {
   "cell_type": "code",
   "execution_count": 24,
   "id": "99353f23",
   "metadata": {
    "ExecuteTime": {
     "end_time": "2021-06-27T08:15:56.268771Z",
     "start_time": "2021-06-27T08:15:56.263739Z"
    }
   },
   "outputs": [
    {
     "data": {
      "text/plain": [
       "(['<sos>',\n",
       "  'there',\n",
       "  'is',\n",
       "  'also',\n",
       "  'a',\n",
       "  'buffet',\n",
       "  'restaurant',\n",
       "  'and',\n",
       "  'a',\n",
       "  'bar',\n",
       "  '.'],\n",
       " ['guests',\n",
       "  'is',\n",
       "  'also',\n",
       "  'a',\n",
       "  'restaurant',\n",
       "  'restaurant',\n",
       "  ',',\n",
       "  'a',\n",
       "  'bar',\n",
       "  '.'])"
      ]
     },
     "execution_count": 24,
     "metadata": {},
     "output_type": "execute_result"
    }
   ],
   "source": [
    "texts_original[1], texts_greedy[1]"
   ]
  },
  {
   "cell_type": "code",
   "execution_count": 21,
   "id": "c7aa724a",
   "metadata": {
    "ExecuteTime": {
     "end_time": "2021-06-27T08:15:17.972187Z",
     "start_time": "2021-06-27T08:15:17.967521Z"
    }
   },
   "outputs": [
    {
     "data": {
      "text/plain": [
       "0.5275388348709146"
      ]
     },
     "execution_count": 21,
     "metadata": {},
     "output_type": "execute_result"
    }
   ],
   "source": [
    "corpus_bleu([[text] for text in texts_original], texts_greedy)"
   ]
  },
  {
   "cell_type": "code",
   "execution_count": 22,
   "id": "26c6410c",
   "metadata": {
    "ExecuteTime": {
     "end_time": "2021-06-27T08:15:18.699036Z",
     "start_time": "2021-06-27T08:15:18.694594Z"
    }
   },
   "outputs": [
    {
     "data": {
      "text/plain": [
       "0.4778895598771266"
      ]
     },
     "execution_count": 22,
     "metadata": {},
     "output_type": "execute_result"
    }
   ],
   "source": [
    "corpus_bleu([[text] for text in texts_original], texts_not_greedy)"
   ]
  },
  {
   "cell_type": "code",
   "execution_count": 40,
   "id": "d0630290",
   "metadata": {
    "ExecuteTime": {
     "end_time": "2021-06-24T16:43:15.486682Z",
     "start_time": "2021-06-24T16:43:15.480814Z"
    }
   },
   "outputs": [],
   "source": [
    "references = [[[1, 2, 3, 4]]]\n",
    "candidates = [[1, 2, 3, 4]]\n",
    "score = corpus_bleu(references, candidates)"
   ]
  },
  {
   "cell_type": "code",
   "execution_count": 41,
   "id": "bba8079f",
   "metadata": {
    "ExecuteTime": {
     "end_time": "2021-06-24T16:43:19.739424Z",
     "start_time": "2021-06-24T16:43:19.732538Z"
    }
   },
   "outputs": [
    {
     "data": {
      "text/plain": [
       "1.0"
      ]
     },
     "execution_count": 41,
     "metadata": {},
     "output_type": "execute_result"
    }
   ],
   "source": [
    "score"
   ]
  },
  {
   "cell_type": "code",
   "execution_count": 24,
   "id": "aeb31dce",
   "metadata": {
    "ExecuteTime": {
     "end_time": "2021-06-24T15:59:33.532327Z",
     "start_time": "2021-06-24T15:59:33.524224Z"
    }
   },
   "outputs": [
    {
     "data": {
      "text/plain": [
       "0.4699739598002697"
      ]
     },
     "execution_count": 24,
     "metadata": {},
     "output_type": "execute_result"
    }
   ],
   "source": [
    "corpus_bleu([[texts_not_greedy]], [texts_original])"
   ]
  },
  {
   "cell_type": "code",
   "execution_count": 25,
   "id": "75c29ccc",
   "metadata": {
    "ExecuteTime": {
     "end_time": "2021-06-24T16:00:41.697753Z",
     "start_time": "2021-06-24T16:00:41.691191Z"
    }
   },
   "outputs": [
    {
     "data": {
      "text/plain": [
       "1.0"
      ]
     },
     "execution_count": 25,
     "metadata": {},
     "output_type": "execute_result"
    }
   ],
   "source": [
    "score"
   ]
  },
  {
   "cell_type": "code",
   "execution_count": 52,
   "id": "6d4743d2",
   "metadata": {
    "ExecuteTime": {
     "end_time": "2021-06-23T17:57:16.045643Z",
     "start_time": "2021-06-23T17:57:16.042549Z"
    }
   },
   "outputs": [],
   "source": [
    "from nltk.translate.bleu_score import corpus_bleu,sentence_bleu"
   ]
  },
  {
   "cell_type": "code",
   "execution_count": 36,
   "id": "df35b36c",
   "metadata": {
    "ExecuteTime": {
     "end_time": "2021-06-24T16:39:14.362143Z",
     "start_time": "2021-06-24T16:39:08.493610Z"
    }
   },
   "outputs": [],
   "source": [
    "output, _ = model(src, trg[:, :-1])\n",
    "\n",
    "# output = [batch size, trg len - 1, output dim]\n",
    "# trg = [batch size, trg len]\n",
    "\n",
    "output_dim = output.shape[-1]\n",
    "\n",
    "output = output.contiguous().view(-1, output_dim)\n",
    "trg = trg[:, 1:].contiguous().view(-1)"
   ]
  },
  {
   "cell_type": "code",
   "execution_count": 37,
   "id": "145203a5",
   "metadata": {
    "ExecuteTime": {
     "end_time": "2021-06-24T16:39:24.019865Z",
     "start_time": "2021-06-24T16:39:23.913200Z"
    }
   },
   "outputs": [
    {
     "data": {
      "text/plain": [
       "tensor(11.8226, grad_fn=<NllLossBackward>)"
      ]
     },
     "execution_count": 37,
     "metadata": {},
     "output_type": "execute_result"
    }
   ],
   "source": [
    "F.cross_entropy(output, trg)"
   ]
  },
  {
   "cell_type": "code",
   "execution_count": null,
   "id": "d3e66112",
   "metadata": {
    "ExecuteTime": {
     "end_time": "2021-06-22T15:27:46.176380Z",
     "start_time": "2021-06-22T15:27:45.551Z"
    }
   },
   "outputs": [],
   "source": [
    "o, _ = model(src, trg[:, :-1])"
   ]
  },
  {
   "cell_type": "code",
   "execution_count": null,
   "id": "90c9ac82",
   "metadata": {
    "ExecuteTime": {
     "end_time": "2021-06-22T15:27:46.182914Z",
     "start_time": "2021-06-22T15:27:45.938Z"
    }
   },
   "outputs": [],
   "source": [
    "o[0].shape"
   ]
  },
  {
   "cell_type": "code",
   "execution_count": 30,
   "id": "64970fb8",
   "metadata": {
    "ExecuteTime": {
     "end_time": "2021-06-22T15:27:46.418052Z",
     "start_time": "2021-06-22T15:27:46.399483Z"
    }
   },
   "outputs": [],
   "source": [
    "o = o.permute(1, 0, 2)"
   ]
  },
  {
   "cell_type": "code",
   "execution_count": 31,
   "id": "1c041d1d",
   "metadata": {
    "ExecuteTime": {
     "end_time": "2021-06-22T15:27:47.085439Z",
     "start_time": "2021-06-22T15:27:46.785883Z"
    }
   },
   "outputs": [
    {
     "data": {
      "text/plain": [
       "torch.Size([46, 128])"
      ]
     },
     "execution_count": 31,
     "metadata": {},
     "output_type": "execute_result"
    }
   ],
   "source": [
    "o.argmax(dim=-1).permute(1, 0).shape"
   ]
  },
  {
   "cell_type": "code",
   "execution_count": 32,
   "id": "cd0105ef",
   "metadata": {
    "ExecuteTime": {
     "end_time": "2021-06-22T15:27:47.428856Z",
     "start_time": "2021-06-22T15:27:47.383798Z"
    }
   },
   "outputs": [],
   "source": [
    "sample = o.argmax(dim=-1).permute(1, 0)"
   ]
  },
  {
   "cell_type": "code",
   "execution_count": 33,
   "id": "42d42070",
   "metadata": {
    "ExecuteTime": {
     "end_time": "2021-06-22T15:27:47.870154Z",
     "start_time": "2021-06-22T15:27:47.864283Z"
    }
   },
   "outputs": [
    {
     "data": {
      "text/plain": [
       "torch.Size([46, 128])"
      ]
     },
     "execution_count": 33,
     "metadata": {},
     "output_type": "execute_result"
    }
   ],
   "source": [
    "sample[:].shape"
   ]
  },
  {
   "cell_type": "code",
   "execution_count": 19,
   "id": "88cbbb06",
   "metadata": {
    "ExecuteTime": {
     "end_time": "2021-06-22T15:25:16.190281Z",
     "start_time": "2021-06-22T15:25:16.187009Z"
    }
   },
   "outputs": [],
   "source": [
    "sample1 = sample[0]"
   ]
  },
  {
   "cell_type": "code",
   "execution_count": 20,
   "id": "3c03200b",
   "metadata": {
    "ExecuteTime": {
     "end_time": "2021-06-22T15:25:16.573055Z",
     "start_time": "2021-06-22T15:25:16.562651Z"
    }
   },
   "outputs": [
    {
     "data": {
      "text/plain": [
       "tensor([  2,  24, 127,  11,   5, 128,  37,   4,   3,   1,   1,   1,   1,   1,\n",
       "          1,   1,   1,   1,   1,   1,   1,   1,   1,   1,   1,   1,   1,   1,\n",
       "          1,   1,   1,   1,   1,   1,   1,   1,   1,   1,   1,   1,   1,   1,\n",
       "          1,   1,   1,   1,   1])"
      ]
     },
     "execution_count": 20,
     "metadata": {},
     "output_type": "execute_result"
    }
   ],
   "source": [
    "trg[0]"
   ]
  },
  {
   "cell_type": "code",
   "execution_count": 21,
   "id": "17f49735",
   "metadata": {
    "ExecuteTime": {
     "end_time": "2021-06-22T15:25:17.031766Z",
     "start_time": "2021-06-22T15:25:17.016954Z"
    }
   },
   "outputs": [
    {
     "data": {
      "text/plain": [
       "['rooms', 'have', 'with', 'a', 'shared', 'bathroom', '.']"
      ]
     },
     "execution_count": 21,
     "metadata": {},
     "output_type": "execute_result"
    }
   ],
   "source": [
    "get_text(sample1, TRG.vocab)"
   ]
  },
  {
   "cell_type": "code",
   "execution_count": 23,
   "id": "baedff78",
   "metadata": {
    "ExecuteTime": {
     "end_time": "2021-06-22T15:26:11.483523Z",
     "start_time": "2021-06-22T15:26:10.307836Z"
    }
   },
   "outputs": [
    {
     "data": {
      "text/plain": [
       "tensor([[[-0.4832,  0.3313, -0.3978,  ..., -0.7825,  0.2135, -0.0957],\n",
       "         [-0.1670,  0.1979, -0.5312,  ..., -0.4924, -0.1184, -0.5667],\n",
       "         [-0.6390,  0.5016, -0.3676,  ..., -0.1893, -0.2710, -0.3325],\n",
       "         ...,\n",
       "         [-0.3731, -0.1327, -0.2330,  ..., -0.8845,  0.2529, -0.1635],\n",
       "         [ 0.0035,  0.6701,  0.2840,  ..., -0.6974, -0.1369, -0.3067],\n",
       "         [-0.1932, -0.1651,  0.3286,  ..., -0.4547, -0.2638, -0.1974]],\n",
       "\n",
       "        [[ 0.4543,  0.3039, -0.0067,  ...,  0.0411, -0.2525, -0.4166],\n",
       "         [ 0.3526,  0.6596, -0.1921,  ..., -0.4458, -0.2560, -0.1452],\n",
       "         [ 0.5380,  0.2005,  0.2439,  ..., -0.1337, -0.2762,  0.0474],\n",
       "         ...,\n",
       "         [ 0.1708,  0.1671,  0.2324,  ..., -0.2832, -0.3041, -0.6673],\n",
       "         [ 0.2035, -0.0374,  0.2155,  ..., -0.1811, -0.3452, -0.6700],\n",
       "         [ 0.1592,  0.3354,  0.0645,  ..., -0.1179, -0.4021, -0.6699]],\n",
       "\n",
       "        [[-0.0418, -0.1311,  0.0444,  ..., -0.1227,  0.0559, -0.1906],\n",
       "         [-0.2211,  0.5425, -0.4063,  ...,  0.2158,  0.2609,  0.3294],\n",
       "         [ 0.2208,  1.3622,  0.1811,  ..., -0.1005, -0.0106,  0.1245],\n",
       "         ...,\n",
       "         [-0.0310, -0.0191,  0.0034,  ..., -0.3592, -0.3545, -0.4283],\n",
       "         [ 0.0312,  0.2740, -0.0068,  ..., -0.4824, -0.0995, -0.3767],\n",
       "         [-0.0066,  0.1613,  0.1225,  ..., -0.5153, -0.2268, -0.3956]],\n",
       "\n",
       "        ...,\n",
       "\n",
       "        [[ 0.0651, -0.2569, -0.1594,  ..., -0.2667, -0.0018, -0.3722],\n",
       "         [-0.0275,  0.4587,  0.1755,  ..., -0.2405, -0.2558, -0.4969],\n",
       "         [ 0.1648,  0.4850,  0.2110,  ..., -0.3384, -0.3467, -0.4745],\n",
       "         ...,\n",
       "         [ 0.5408, -0.1327,  0.1168,  ..., -0.4477,  0.0489, -0.2413],\n",
       "         [ 0.2749, -0.0687,  0.0879,  ..., -0.3693, -0.1303, -0.2632],\n",
       "         [ 0.4342, -0.1203,  0.1909,  ..., -0.4628,  0.0681, -0.4322]],\n",
       "\n",
       "        [[-0.0969, -0.3686, -0.1475,  ..., -0.3049, -0.1439, -0.3979],\n",
       "         [ 0.0848, -0.3577, -0.3633,  ..., -0.2841,  0.0423,  0.0438],\n",
       "         [ 0.0704, -0.3896, -0.1910,  ..., -0.3152,  0.1241, -0.1619],\n",
       "         ...,\n",
       "         [ 0.0301, -0.2365,  0.1502,  ..., -0.5872, -0.2511, -0.2445],\n",
       "         [ 0.0833, -0.1477,  0.0206,  ..., -0.3937, -0.2508, -0.3760],\n",
       "         [ 0.1078, -0.2134, -0.0955,  ..., -0.3311, -0.0615, -0.0462]],\n",
       "\n",
       "        [[ 0.0267, -0.0982,  0.0816,  ..., -0.0866, -0.0715, -0.3258],\n",
       "         [-0.1822, -0.0725,  0.1498,  ..., -0.1701, -0.1939, -0.3821],\n",
       "         [-0.1829,  0.2510,  0.4634,  ...,  0.0091, -0.4233,  0.0492],\n",
       "         ...,\n",
       "         [ 0.1438,  0.5328,  0.2521,  ..., -0.5290, -0.1823, -0.1601],\n",
       "         [ 0.0017,  0.1517,  0.3067,  ..., -0.4333, -0.1220, -0.3416],\n",
       "         [ 0.2241,  0.5225,  0.2447,  ..., -0.7546, -0.2025,  0.1894]]],\n",
       "       grad_fn=<NativeLayerNormBackward>)"
      ]
     },
     "execution_count": 23,
     "metadata": {},
     "output_type": "execute_result"
    }
   ],
   "source": [
    "model.translate(sample)"
   ]
  },
  {
   "cell_type": "markdown",
   "id": "b8cad455",
   "metadata": {},
   "source": [
    "## end"
   ]
  },
  {
   "cell_type": "code",
   "execution_count": null,
   "id": "5fa1a9c3",
   "metadata": {},
   "outputs": [],
   "source": []
  }
 ],
 "metadata": {
  "kernelspec": {
   "display_name": "Python 3",
   "language": "python",
   "name": "python3"
  },
  "language_info": {
   "codemirror_mode": {
    "name": "ipython",
    "version": 3
   },
   "file_extension": ".py",
   "mimetype": "text/x-python",
   "name": "python",
   "nbconvert_exporter": "python",
   "pygments_lexer": "ipython3",
   "version": "3.7.10"
  },
  "toc": {
   "base_numbering": 1,
   "nav_menu": {},
   "number_sections": true,
   "sideBar": true,
   "skip_h1_title": false,
   "title_cell": "Table of Contents",
   "title_sidebar": "Contents",
   "toc_cell": false,
   "toc_position": {},
   "toc_section_display": true,
   "toc_window_display": true
  },
  "varInspector": {
   "cols": {
    "lenName": 16,
    "lenType": 16,
    "lenVar": 40
   },
   "kernels_config": {
    "python": {
     "delete_cmd_postfix": "",
     "delete_cmd_prefix": "del ",
     "library": "var_list.py",
     "varRefreshCmd": "print(var_dic_list())"
    },
    "r": {
     "delete_cmd_postfix": ") ",
     "delete_cmd_prefix": "rm(",
     "library": "var_list.r",
     "varRefreshCmd": "cat(var_dic_list()) "
    }
   },
   "types_to_exclude": [
    "module",
    "function",
    "builtin_function_or_method",
    "instance",
    "_Feature"
   ],
   "window_display": false
  }
 },
 "nbformat": 4,
 "nbformat_minor": 5
}
